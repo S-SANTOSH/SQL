{
 "cells": [
  {
   "cell_type": "markdown",
   "metadata": {},
   "source": [
    "## DBMS Lab "
   ]
  },
  {
   "cell_type": "markdown",
   "metadata": {},
   "source": [
    "### Database Creation and Connectivity"
   ]
  },
  {
   "cell_type": "code",
   "execution_count": 124,
   "metadata": {},
   "outputs": [],
   "source": [
    "import mysql.connector\n",
    "import prettytable\n",
    "import pandas as pd"
   ]
  },
  {
   "cell_type": "code",
   "execution_count": 6,
   "metadata": {},
   "outputs": [
    {
     "name": "stdout",
     "output_type": "stream",
     "text": [
      "Connection Successful\n"
     ]
    }
   ],
   "source": [
    "mydb = mysql.connector.connect(\n",
    "                host = \"localhost\",\n",
    "                user = \"root\",\n",
    "                password = \"Santoshkyn14@\"\n",
    "                                )\n",
    "if(mydb):\n",
    "    print(\"Connection Successful\")\n",
    "else:\n",
    "    print(\"Connection Unsuccessful\")"
   ]
  },
  {
   "cell_type": "code",
   "execution_count": 7,
   "metadata": {},
   "outputs": [],
   "source": [
    "mycursor = mydb.cursor()"
   ]
  },
  {
   "cell_type": "code",
   "execution_count": 9,
   "metadata": {},
   "outputs": [],
   "source": [
    "mycursor.execute(\"create database Library_Management\")"
   ]
  },
  {
   "cell_type": "code",
   "execution_count": 125,
   "metadata": {},
   "outputs": [
    {
     "name": "stdout",
     "output_type": "stream",
     "text": [
      "Connection Successful\n"
     ]
    }
   ],
   "source": [
    "mydb = mysql.connector.connect(\n",
    "                host = \"localhost\",\n",
    "                user = \"root\",\n",
    "                password = \"Santoshkyn14@\",\n",
    "                database = \"Library_Management\"\n",
    "                )\n",
    "if(mydb):\n",
    "    print(\"Connection Successful\")\n",
    "else:\n",
    "    print(\"Connection Unsuccesful\")"
   ]
  },
  {
   "cell_type": "code",
   "execution_count": 126,
   "metadata": {},
   "outputs": [
    {
     "name": "stdout",
     "output_type": "stream",
     "text": [
      "CMySQLCursor: (Nothing executed yet)\n"
     ]
    }
   ],
   "source": [
    "mycursor = mydb.cursor()\n",
    "print(mycursor)"
   ]
  },
  {
   "cell_type": "markdown",
   "metadata": {},
   "source": [
    "## Queries Function "
   ]
  },
  {
   "cell_type": "code",
   "execution_count": 127,
   "metadata": {},
   "outputs": [],
   "source": [
    "def Create_Table(mycursor = \"\",table_name = \"Unknown\", columns = [], columns_type = [], num = [], features = [], primary_key = [], foreign_key = [], reference = []):\n",
    "    try:\n",
    "        if(columns == [] or columns_type == [] and mycursor == \"\"):\n",
    "            print(\"Please enter attributes for the tables with proper type\")\n",
    "        else:\n",
    "            string = \"create table \" + table_name + \"(\"\n",
    "            for i,j,k in zip(columns, columns_type, num):\n",
    "                string = string + i+\" \"+j +\"(\" + str(k) + \")\"\n",
    "                if(features != []):\n",
    "                    string = string + features.pop(0) + \",\"\n",
    "                else:\n",
    "                    string = string + \",\"\n",
    "            if(primary_key != []):\n",
    "                string = string + \"primary key(\" + primary_key.pop(0) + \"),\" \n",
    "            for i,j in zip(foreign_key, reference):\n",
    "                string = string + \"foreign key (\" + i + \") \" + \"references \" + j+\",\"\n",
    "            string = string[0:len(string) - 1]\n",
    "            string = string + \")\"\n",
    "            print(string)\n",
    "            mycursor.execute(string)\n",
    "    except Exception as e:\n",
    "        print(\"Create Table Failed\")\n",
    "        print(e)"
   ]
  },
  {
   "cell_type": "code",
   "execution_count": 128,
   "metadata": {},
   "outputs": [],
   "source": [
    "def Table_Type(mycursor = \"\", table_name = \"\"):\n",
    "    try:\n",
    "        if(table_name == \"\" or mycursor == \"\"):\n",
    "            print(\"Please give the data of necessary attributes\")\n",
    "        else:\n",
    "            mycursor.execute(\"desc \" + table_name)\n",
    "            x = prettytable.PrettyTable([\"Field\", \"Type\",\"Null\", \"Key\", \"Default\", \"Extra\"])\n",
    "            for i in mycursor:\n",
    "                x.add_row(list(i))\n",
    "            print(x)\n",
    "            return x\n",
    "    except Exception as e:\n",
    "        print(\"Code failed in table type\")\n",
    "        print(e)"
   ]
  },
  {
   "cell_type": "code",
   "execution_count": 144,
   "metadata": {},
   "outputs": [],
   "source": [
    "def Insert_into_Table(mycursor = mycursor,table_name=[], values=[]):\n",
    "    try:\n",
    "        if(table_name == [] or values == []):\n",
    "            print(\"Please improve the parameter\")\n",
    "        else:\n",
    "            string = \"insert into \"+table_name \n",
    "            mycursor.execute(\"desc \" + table_name)\n",
    "            string = string + \"(\"\n",
    "            for i in mycursor:\n",
    "                string = string + i[0] +\",\"\n",
    "            string = string[0: len(string) - 1]\n",
    "            string = string + \")\"\n",
    "            string = string + \" values(\"\n",
    "            for i in values:\n",
    "                if(type(i) == str):\n",
    "                    string = string + \"'\"\n",
    "                    string = string + \"{}\".format(i)\n",
    "                    string = string + \"',\"\n",
    "                else:\n",
    "                    string = string + \"{}\".format(i)\n",
    "                    string = string + \",\"\n",
    "            string = string[0:len(string)-1]\n",
    "            string = string + \")\"\n",
    "        print(string)\n",
    "        mycursor.execute(string)\n",
    "    except Exception as e:\n",
    "        print(e)\n",
    "        "
   ]
  },
  {
   "cell_type": "code",
   "execution_count": 130,
   "metadata": {},
   "outputs": [],
   "source": [
    "def Show_Table(mycursor = mycursor, table_name = []):\n",
    "    try:\n",
    "        if(table_name == []):\n",
    "            print(\"Please give table name\")\n",
    "        else:\n",
    "            column = []\n",
    "            mycursor.execute(\"desc \"+ table_name)\n",
    "            for i in mycursor:\n",
    "                column.append(str(i[0]))\n",
    "            x = prettytable.PrettyTable(column)\n",
    "            mycursor.execute(\"select * from \" + table_name)\n",
    "            for i in mycursor:\n",
    "                x.add_row(list(i))\n",
    "            print(x)\n",
    "    except Exception as e:\n",
    "        print(e)\n",
    "        print(\"Code failed in show table\")"
   ]
  },
  {
   "cell_type": "code",
   "execution_count": null,
   "metadata": {},
   "outputs": [],
   "source": []
  },
  {
   "cell_type": "code",
   "execution_count": null,
   "metadata": {},
   "outputs": [],
   "source": []
  },
  {
   "cell_type": "code",
   "execution_count": null,
   "metadata": {},
   "outputs": [],
   "source": []
  },
  {
   "cell_type": "code",
   "execution_count": null,
   "metadata": {},
   "outputs": [],
   "source": []
  },
  {
   "cell_type": "markdown",
   "metadata": {},
   "source": [
    "## Table Creation and Table Overview"
   ]
  },
  {
   "cell_type": "code",
   "execution_count": 26,
   "metadata": {},
   "outputs": [],
   "source": [
    "Create_Table(mycursor = mycursor,table_name= \"SiuLibrary1\",\n",
    "            columns=[\"Slid\",\"lname\",\"location\",\"noofbranches\"], \n",
    "            columns_type=[\"int\",\"varchar\", \"varchar\",\"varchar\"],\n",
    "            num=[10, 100, 100, 100],\n",
    "            primary_key=[\"Slid\"])"
   ]
  },
  {
   "cell_type": "code",
   "execution_count": 26,
   "metadata": {},
   "outputs": [
    {
     "name": "stdout",
     "output_type": "stream",
     "text": [
      "+--------------+-----------------+------+-----+---------+-------+\n",
      "|    Field     |       Type      | Null | Key | Default | Extra |\n",
      "+--------------+-----------------+------+-----+---------+-------+\n",
      "|     Slid     |      b'int'     |  NO  | PRI |   None  |       |\n",
      "|    lname     | b'varchar(100)' | YES  |     |   None  |       |\n",
      "|   location   | b'varchar(100)' | YES  |     |   None  |       |\n",
      "| noofbranches | b'varchar(100)' | YES  |     |   None  |       |\n",
      "+--------------+-----------------+------+-----+---------+-------+\n"
     ]
    },
    {
     "data": {
      "text/plain": [
       "<prettytable.PrettyTable at 0x7fd1a30304c0>"
      ]
     },
     "execution_count": 26,
     "metadata": {},
     "output_type": "execute_result"
    }
   ],
   "source": [
    "Table_Type(table_name=\"SiuLibrary1\", mycursor=mycursor)"
   ]
  },
  {
   "cell_type": "code",
   "execution_count": 30,
   "metadata": {},
   "outputs": [],
   "source": [
    "Create_Table(mycursor = mycursor, table_name=\"Ilibrary\",\n",
    "             columns=[\"Lid\", \"lname\", \"City\",\"Area\",\"Slid\"],\n",
    "             columns_type=[\"int\",\"varchar\",\"varchar\",\"varchar\",\"int\"],\n",
    "             num=[10,255,255,255,10],\n",
    "             primary_key=[\"Lid\"],\n",
    "             foreign_key=[\"Slid\"],\n",
    "             reference=[\"SiuLibrary1(Slid)\"]\n",
    "            )"
   ]
  },
  {
   "cell_type": "code",
   "execution_count": 31,
   "metadata": {},
   "outputs": [
    {
     "name": "stdout",
     "output_type": "stream",
     "text": [
      "+-------+-----------------+------+-----+---------+-------+\n",
      "| Field |       Type      | Null | Key | Default | Extra |\n",
      "+-------+-----------------+------+-----+---------+-------+\n",
      "|  Lid  |      b'int'     |  NO  | PRI |   None  |       |\n",
      "| lname | b'varchar(255)' | YES  |     |   None  |       |\n",
      "|  City | b'varchar(255)' | YES  |     |   None  |       |\n",
      "|  Area | b'varchar(255)' | YES  |     |   None  |       |\n",
      "|  Slid |      b'int'     | YES  | MUL |   None  |       |\n",
      "+-------+-----------------+------+-----+---------+-------+\n"
     ]
    },
    {
     "data": {
      "text/plain": [
       "<prettytable.PrettyTable at 0x7fd1a2e4a5b0>"
      ]
     },
     "execution_count": 31,
     "metadata": {},
     "output_type": "execute_result"
    }
   ],
   "source": [
    "Table_Type(mycursor=mycursor, table_name=\"Ilibrary\")"
   ]
  },
  {
   "cell_type": "code",
   "execution_count": 32,
   "metadata": {},
   "outputs": [],
   "source": [
    "Create_Table(mycursor=mycursor, table_name=\"Books\",\n",
    "             columns=[\"Bid\",\"Bname\",\"Price\",\"Lid\"],\n",
    "             columns_type=[\"int\",\"varchar\",\"int\",\"int\"],\n",
    "             num=[10,225,10,10],\n",
    "             primary_key=[\"Bid\"],\n",
    "             foreign_key=[\"Lid\"],\n",
    "             reference=[\"Ilibrary(Lid)\"]\n",
    "            )"
   ]
  },
  {
   "cell_type": "code",
   "execution_count": 33,
   "metadata": {},
   "outputs": [
    {
     "name": "stdout",
     "output_type": "stream",
     "text": [
      "+-------+-----------------+------+-----+---------+-------+\n",
      "| Field |       Type      | Null | Key | Default | Extra |\n",
      "+-------+-----------------+------+-----+---------+-------+\n",
      "|  Bid  |      b'int'     |  NO  | PRI |   None  |       |\n",
      "| Bname | b'varchar(225)' | YES  |     |   None  |       |\n",
      "| Price |      b'int'     | YES  |     |   None  |       |\n",
      "|  Lid  |      b'int'     | YES  | MUL |   None  |       |\n",
      "+-------+-----------------+------+-----+---------+-------+\n"
     ]
    },
    {
     "data": {
      "text/plain": [
       "<prettytable.PrettyTable at 0x7fd1a3867040>"
      ]
     },
     "execution_count": 33,
     "metadata": {},
     "output_type": "execute_result"
    }
   ],
   "source": [
    "Table_Type(mycursor, table_name=\"Books\")"
   ]
  },
  {
   "cell_type": "code",
   "execution_count": 34,
   "metadata": {},
   "outputs": [],
   "source": [
    "Create_Table(mycursor, table_name=\"Noofcopies\",\n",
    "             columns=[\"Bnid\",\"Bid\",\"Blid\"],\n",
    "             columns_type=[\"int\",\"int\",\"int\"],\n",
    "             num=[10,10,10],\n",
    "             primary_key=[\"Bnid\"],\n",
    "             foreign_key=[\"Bid\"],\n",
    "             reference=[\"Books(Bid)\"]\n",
    "            )"
   ]
  },
  {
   "cell_type": "code",
   "execution_count": 35,
   "metadata": {},
   "outputs": [
    {
     "name": "stdout",
     "output_type": "stream",
     "text": [
      "+-------+--------+------+-----+---------+-------+\n",
      "| Field |  Type  | Null | Key | Default | Extra |\n",
      "+-------+--------+------+-----+---------+-------+\n",
      "|  Bnid | b'int' |  NO  | PRI |   None  |       |\n",
      "|  Bid  | b'int' | YES  | MUL |   None  |       |\n",
      "|  Blid | b'int' | YES  |     |   None  |       |\n",
      "+-------+--------+------+-----+---------+-------+\n"
     ]
    },
    {
     "data": {
      "text/plain": [
       "<prettytable.PrettyTable at 0x7fd1a2e59dc0>"
      ]
     },
     "execution_count": 35,
     "metadata": {},
     "output_type": "execute_result"
    }
   ],
   "source": [
    "Table_Type(mycursor, \"Noofcopies\")"
   ]
  },
  {
   "cell_type": "code",
   "execution_count": 38,
   "metadata": {},
   "outputs": [],
   "source": [
    "Create_Table(mycursor, table_name=\"Author\",\n",
    "             columns=[\"Aid\",\"Aname\",\"email\",\"PhoneNo\"],\n",
    "             columns_type=[\"int\",\"varchar\",\"varchar\",\"int\"],\n",
    "             num=[10,255,255,20],\n",
    "             primary_key=[\"Aid\"]\n",
    "            )"
   ]
  },
  {
   "cell_type": "code",
   "execution_count": 39,
   "metadata": {},
   "outputs": [
    {
     "name": "stdout",
     "output_type": "stream",
     "text": [
      "+---------+-----------------+------+-----+---------+-------+\n",
      "|  Field  |       Type      | Null | Key | Default | Extra |\n",
      "+---------+-----------------+------+-----+---------+-------+\n",
      "|   Aid   |      b'int'     |  NO  | PRI |   None  |       |\n",
      "|  Aname  | b'varchar(255)' | YES  |     |   None  |       |\n",
      "|  email  | b'varchar(255)' | YES  |     |   None  |       |\n",
      "| PhoneNo |      b'int'     | YES  |     |   None  |       |\n",
      "+---------+-----------------+------+-----+---------+-------+\n"
     ]
    },
    {
     "data": {
      "text/plain": [
       "<prettytable.PrettyTable at 0x7fd1a3b63e80>"
      ]
     },
     "execution_count": 39,
     "metadata": {},
     "output_type": "execute_result"
    }
   ],
   "source": [
    "Table_Type(mycursor, \"Author\")"
   ]
  },
  {
   "cell_type": "code",
   "execution_count": 40,
   "metadata": {},
   "outputs": [],
   "source": [
    "Create_Table(mycursor, table_name=\"Writes\",\n",
    "             columns=[\"Bid\",\"Aid\",\"Pid\"],\n",
    "             columns_type=[\"int\",\"int\",\"int\"],\n",
    "             num = [10,10,10],\n",
    "             primary_key=[\"Pid\"],\n",
    "             foreign_key=[\"Aid\",\"Bid\"],\n",
    "             reference=[\"Author(AId)\",\"Books(Bid)\"]\n",
    "            )"
   ]
  },
  {
   "cell_type": "code",
   "execution_count": 41,
   "metadata": {},
   "outputs": [
    {
     "name": "stdout",
     "output_type": "stream",
     "text": [
      "+-------+--------+------+-----+---------+-------+\n",
      "| Field |  Type  | Null | Key | Default | Extra |\n",
      "+-------+--------+------+-----+---------+-------+\n",
      "|  Bid  | b'int' | YES  | MUL |   None  |       |\n",
      "|  Aid  | b'int' | YES  | MUL |   None  |       |\n",
      "|  Pid  | b'int' |  NO  | PRI |   None  |       |\n",
      "+-------+--------+------+-----+---------+-------+\n"
     ]
    },
    {
     "data": {
      "text/plain": [
       "<prettytable.PrettyTable at 0x7fd1a32b5f10>"
      ]
     },
     "execution_count": 41,
     "metadata": {},
     "output_type": "execute_result"
    }
   ],
   "source": [
    "Table_Type(mycursor, \"Writes\")"
   ]
  },
  {
   "cell_type": "code",
   "execution_count": 42,
   "metadata": {},
   "outputs": [],
   "source": [
    "Create_Table(mycursor, table_name=\"Publisher\",\n",
    "             columns=[\"Pid\",\"Pname\"],\n",
    "             columns_type=[\"int\",\"varchar\"],\n",
    "             num = [10,255],\n",
    "             primary_key=[\"Pid\"]\n",
    "            )"
   ]
  },
  {
   "cell_type": "code",
   "execution_count": 43,
   "metadata": {},
   "outputs": [
    {
     "name": "stdout",
     "output_type": "stream",
     "text": [
      "+-------+-----------------+------+-----+---------+-------+\n",
      "| Field |       Type      | Null | Key | Default | Extra |\n",
      "+-------+-----------------+------+-----+---------+-------+\n",
      "|  Pid  |      b'int'     |  NO  | PRI |   None  |       |\n",
      "| Pname | b'varchar(255)' | YES  |     |   None  |       |\n",
      "+-------+-----------------+------+-----+---------+-------+\n"
     ]
    },
    {
     "data": {
      "text/plain": [
       "<prettytable.PrettyTable at 0x7fd1a3007e80>"
      ]
     },
     "execution_count": 43,
     "metadata": {},
     "output_type": "execute_result"
    }
   ],
   "source": [
    "Table_Type(mycursor, \"Publisher\")"
   ]
  },
  {
   "cell_type": "code",
   "execution_count": 44,
   "metadata": {},
   "outputs": [],
   "source": [
    "Create_Table(mycursor, table_name=\"Seller\",\n",
    "             columns=[\"Sid\",\"slname\",\"City\"],\n",
    "             columns_type=[\"int\",\"varchar\",\"varchar\"],\n",
    "             num=[10,255,255],\n",
    "             primary_key=[\"Sid\"]\n",
    "            )"
   ]
  },
  {
   "cell_type": "code",
   "execution_count": 45,
   "metadata": {},
   "outputs": [
    {
     "name": "stdout",
     "output_type": "stream",
     "text": [
      "+--------+-----------------+------+-----+---------+-------+\n",
      "| Field  |       Type      | Null | Key | Default | Extra |\n",
      "+--------+-----------------+------+-----+---------+-------+\n",
      "|  Sid   |      b'int'     |  NO  | PRI |   None  |       |\n",
      "| slname | b'varchar(255)' | YES  |     |   None  |       |\n",
      "|  City  | b'varchar(255)' | YES  |     |   None  |       |\n",
      "+--------+-----------------+------+-----+---------+-------+\n"
     ]
    },
    {
     "data": {
      "text/plain": [
       "<prettytable.PrettyTable at 0x7fd1a300ba30>"
      ]
     },
     "execution_count": 45,
     "metadata": {},
     "output_type": "execute_result"
    }
   ],
   "source": [
    "Table_Type(mycursor, \"Seller\")"
   ]
  },
  {
   "cell_type": "code",
   "execution_count": 46,
   "metadata": {},
   "outputs": [],
   "source": [
    "Create_Table(mycursor,table_name=\"Department\",\n",
    "             columns=[\"DeptId\",\"Deptname\",\"Iname\",\"Lid\"],\n",
    "             columns_type=[\"int\",\"varchar\",\"varchar\",\"int\"],\n",
    "             num=[10,255,255,10],\n",
    "             primary_key=[\"DeptId\"],\n",
    "             foreign_key=[\"Lid\"],\n",
    "             reference=[\"Ilibrary(Lid)\"]\n",
    "            )"
   ]
  },
  {
   "cell_type": "code",
   "execution_count": 47,
   "metadata": {},
   "outputs": [
    {
     "name": "stdout",
     "output_type": "stream",
     "text": [
      "+----------+-----------------+------+-----+---------+-------+\n",
      "|  Field   |       Type      | Null | Key | Default | Extra |\n",
      "+----------+-----------------+------+-----+---------+-------+\n",
      "|  DeptId  |      b'int'     |  NO  | PRI |   None  |       |\n",
      "| Deptname | b'varchar(255)' | YES  |     |   None  |       |\n",
      "|  Iname   | b'varchar(255)' | YES  |     |   None  |       |\n",
      "|   Lid    |      b'int'     | YES  | MUL |   None  |       |\n",
      "+----------+-----------------+------+-----+---------+-------+\n"
     ]
    },
    {
     "data": {
      "text/plain": [
       "<prettytable.PrettyTable at 0x7fd1a3100d00>"
      ]
     },
     "execution_count": 47,
     "metadata": {},
     "output_type": "execute_result"
    }
   ],
   "source": [
    "Table_Type(mycursor, \"Department\")"
   ]
  },
  {
   "cell_type": "code",
   "execution_count": 49,
   "metadata": {},
   "outputs": [],
   "source": [
    "Create_Table(mycursor, table_name=\"Member\",\n",
    "             columns=[\"MemId\",\"Lid\"],\n",
    "             columns_type=[\"int\",\"int\"],\n",
    "             num=[10,10,10],\n",
    "             primary_key=[\"MemId\"]\n",
    "            )"
   ]
  },
  {
   "cell_type": "code",
   "execution_count": 50,
   "metadata": {},
   "outputs": [
    {
     "name": "stdout",
     "output_type": "stream",
     "text": [
      "+-------+--------+------+-----+---------+-------+\n",
      "| Field |  Type  | Null | Key | Default | Extra |\n",
      "+-------+--------+------+-----+---------+-------+\n",
      "| MemId | b'int' |  NO  | PRI |   None  |       |\n",
      "|  Lid  | b'int' | YES  |     |   None  |       |\n",
      "+-------+--------+------+-----+---------+-------+\n"
     ]
    },
    {
     "data": {
      "text/plain": [
       "<prettytable.PrettyTable at 0x7fd1a2e73ca0>"
      ]
     },
     "execution_count": 50,
     "metadata": {},
     "output_type": "execute_result"
    }
   ],
   "source": [
    "Table_Type(mycursor, \"Member\")"
   ]
  },
  {
   "cell_type": "code",
   "execution_count": 231,
   "metadata": {},
   "outputs": [
    {
     "name": "stdout",
     "output_type": "stream",
     "text": [
      "create table Staff(Stid int(10),stname varchar(255),email varchar(255),MemId int(10),DeptId int(10),primary key(Stid),foreign key (MemId) references Member(MemId),foreign key (DeptId) references Department(DeptId))\n"
     ]
    }
   ],
   "source": [
    "Create_Table(mycursor, table_name=\"Staff\",\n",
    "             columns=[\"Stid\",\"stname\",\"email\",\"MemId\", \"DeptId\"],\n",
    "             columns_type=[\"int\",\"varchar\",\"varchar\",\"int\",\"int\"],\n",
    "             num=[10,255,255,10,10],\n",
    "             primary_key=[\"Stid\"],\n",
    "             foreign_key=[\"MemId\", \"DeptId\"],\n",
    "             reference=[\"Member(MemId)\",\"Department(DeptId)\"]\n",
    "            )"
   ]
  },
  {
   "cell_type": "code",
   "execution_count": 232,
   "metadata": {},
   "outputs": [
    {
     "name": "stdout",
     "output_type": "stream",
     "text": [
      "+--------+-----------------+------+-----+---------+-------+\n",
      "| Field  |       Type      | Null | Key | Default | Extra |\n",
      "+--------+-----------------+------+-----+---------+-------+\n",
      "|  Stid  |      b'int'     |  NO  | PRI |   None  |       |\n",
      "| stname | b'varchar(255)' | YES  |     |   None  |       |\n",
      "| email  | b'varchar(255)' | YES  |     |   None  |       |\n",
      "| MemId  |      b'int'     | YES  | MUL |   None  |       |\n",
      "| DeptId |      b'int'     | YES  | MUL |   None  |       |\n",
      "+--------+-----------------+------+-----+---------+-------+\n"
     ]
    },
    {
     "data": {
      "text/plain": [
       "<prettytable.PrettyTable at 0x7fd686b795b0>"
      ]
     },
     "execution_count": 232,
     "metadata": {},
     "output_type": "execute_result"
    }
   ],
   "source": [
    "Table_Type(mycursor, \"Staff\")"
   ]
  },
  {
   "cell_type": "code",
   "execution_count": 257,
   "metadata": {},
   "outputs": [
    {
     "name": "stdout",
     "output_type": "stream",
     "text": [
      "create table Purchase(PrId int(10),Lid int(10),Sid int(10),Pid int(10),Bid int(10),Quantity int(10),Date varchar(255),TotalCost int(10),primary key(PrId),foreign key (Sid) references Seller(Sid),foreign key (Pid) references Publisher(Pid),foreign key (Bid) references Books(Bid))\n"
     ]
    }
   ],
   "source": [
    "Create_Table(mycursor, table_name=\"Purchase\",\n",
    "             columns=[\"PrId\",\"Lid\",\"Sid\",\"Pid\",\"Bid\",\"Quantity\",\"Date\",\"TotalCost\"],\n",
    "             columns_type=[\"int\",\"int\",\"int\",\"int\",\"int\",\"int\",\"varchar\",\"int\"],\n",
    "             num=[10,10,10,10,10,10,255,10],\n",
    "             primary_key=[\"PrId\"],\n",
    "             foreign_key=[\"Sid\",\"Pid\",\"Bid\"],\n",
    "             reference=[\"Seller(Sid)\",\"Publisher(Pid)\",\"Books(Bid)\"],\n",
    "            )"
   ]
  },
  {
   "cell_type": "code",
   "execution_count": 258,
   "metadata": {},
   "outputs": [
    {
     "name": "stdout",
     "output_type": "stream",
     "text": [
      "+-----------+-----------------+------+-----+---------+-------+\n",
      "|   Field   |       Type      | Null | Key | Default | Extra |\n",
      "+-----------+-----------------+------+-----+---------+-------+\n",
      "|    PrId   |      b'int'     |  NO  | PRI |   None  |       |\n",
      "|    Lid    |      b'int'     | YES  |     |   None  |       |\n",
      "|    Sid    |      b'int'     | YES  | MUL |   None  |       |\n",
      "|    Pid    |      b'int'     | YES  | MUL |   None  |       |\n",
      "|    Bid    |      b'int'     | YES  | MUL |   None  |       |\n",
      "|  Quantity |      b'int'     | YES  |     |   None  |       |\n",
      "|    Date   | b'varchar(255)' | YES  |     |   None  |       |\n",
      "| TotalCost |      b'int'     | YES  |     |   None  |       |\n",
      "+-----------+-----------------+------+-----+---------+-------+\n"
     ]
    },
    {
     "data": {
      "text/plain": [
       "<prettytable.PrettyTable at 0x7fd6897e1ca0>"
      ]
     },
     "execution_count": 258,
     "metadata": {},
     "output_type": "execute_result"
    }
   ],
   "source": [
    "Table_Type(mycursor, \"Purchase\")"
   ]
  },
  {
   "cell_type": "code",
   "execution_count": 265,
   "metadata": {},
   "outputs": [
    {
     "name": "stdout",
     "output_type": "stream",
     "text": [
      "create table Issue(Issueid int(10),Memid int(10),Bid int(10),Lid int(10),Issuedate varchar(255),Returndate varchar(255),primary key(Issueid))\n"
     ]
    }
   ],
   "source": [
    "Create_Table(mycursor, table_name=\"Issue\",\n",
    "             columns=[\"Issueid\", \"Memid\", \"Bid\", \"Lid\", \"Issuedate\", \"Returndate\"],\n",
    "             columns_type=[\"int\",\"int\",\"int\",\"int\",\"varchar\",\"varchar\"],\n",
    "             num=[10,10,10,10,255,255],\n",
    "             primary_key=[\"Issueid\"]\n",
    "            )"
   ]
  },
  {
   "cell_type": "code",
   "execution_count": 266,
   "metadata": {},
   "outputs": [
    {
     "name": "stdout",
     "output_type": "stream",
     "text": [
      "+------------+-----------------+------+-----+---------+-------+\n",
      "|   Field    |       Type      | Null | Key | Default | Extra |\n",
      "+------------+-----------------+------+-----+---------+-------+\n",
      "|  Issueid   |      b'int'     |  NO  | PRI |   None  |       |\n",
      "|   Memid    |      b'int'     | YES  |     |   None  |       |\n",
      "|    Bid     |      b'int'     | YES  |     |   None  |       |\n",
      "|    Lid     |      b'int'     | YES  |     |   None  |       |\n",
      "| Issuedate  | b'varchar(255)' | YES  |     |   None  |       |\n",
      "| Returndate | b'varchar(255)' | YES  |     |   None  |       |\n",
      "+------------+-----------------+------+-----+---------+-------+\n"
     ]
    },
    {
     "data": {
      "text/plain": [
       "<prettytable.PrettyTable at 0x7fd689790dc0>"
      ]
     },
     "execution_count": 266,
     "metadata": {},
     "output_type": "execute_result"
    }
   ],
   "source": [
    "Table_Type(mycursor, \"Issue\")"
   ]
  },
  {
   "cell_type": "code",
   "execution_count": 63,
   "metadata": {},
   "outputs": [],
   "source": [
    "Create_Table(mycursor, table_name=\"Sells\",\n",
    "             columns=[\"Sid\",\"Bid\",\"Pid\"],\n",
    "             columns_type=[\"int\",\"int\",\"int\"],\n",
    "             num=[10,10,10],\n",
    "             foreign_key=[\"Sid\",\"Bid\",\"Pid\"],\n",
    "             reference=[\"Seller(Sid)\", \"Books(Bid)\",\"Publisher(Pid)\"],\n",
    "            )"
   ]
  },
  {
   "cell_type": "code",
   "execution_count": 64,
   "metadata": {},
   "outputs": [
    {
     "name": "stdout",
     "output_type": "stream",
     "text": [
      "+-------+--------+------+-----+---------+-------+\n",
      "| Field |  Type  | Null | Key | Default | Extra |\n",
      "+-------+--------+------+-----+---------+-------+\n",
      "|  Sid  | b'int' | YES  | MUL |   None  |       |\n",
      "|  Bid  | b'int' | YES  | MUL |   None  |       |\n",
      "|  Pid  | b'int' | YES  | MUL |   None  |       |\n",
      "+-------+--------+------+-----+---------+-------+\n"
     ]
    },
    {
     "data": {
      "text/plain": [
       "<prettytable.PrettyTable at 0x7fd1a3cee100>"
      ]
     },
     "execution_count": 64,
     "metadata": {},
     "output_type": "execute_result"
    }
   ],
   "source": [
    "Table_Type(mycursor, \"Sells\")"
   ]
  },
  {
   "cell_type": "code",
   "execution_count": 73,
   "metadata": {},
   "outputs": [
    {
     "name": "stdout",
     "output_type": "stream",
     "text": [
      "create table Employee(Eid int(10),Empname varchar(255),email varchar(255),Salary int(10),Lid int(10))\n"
     ]
    }
   ],
   "source": [
    "Create_Table(mycursor, table_name=\"Employee\",\n",
    "             columns=[\"Eid\",\"Empname\",\"email\",\"Salary\",\"Lid\"],\n",
    "             columns_type=[\"int\",\"varchar\",\"varchar\",\"int\",\"int\"],\n",
    "             num=[10,255,255,10,10]\n",
    "            )"
   ]
  },
  {
   "cell_type": "code",
   "execution_count": 74,
   "metadata": {},
   "outputs": [
    {
     "name": "stdout",
     "output_type": "stream",
     "text": [
      "+---------+-----------------+------+-----+---------+-------+\n",
      "|  Field  |       Type      | Null | Key | Default | Extra |\n",
      "+---------+-----------------+------+-----+---------+-------+\n",
      "|   Eid   |      b'int'     | YES  |     |   None  |       |\n",
      "| Empname | b'varchar(255)' | YES  |     |   None  |       |\n",
      "|  email  | b'varchar(255)' | YES  |     |   None  |       |\n",
      "|  Salary |      b'int'     | YES  |     |   None  |       |\n",
      "|   Lid   |      b'int'     | YES  |     |   None  |       |\n",
      "+---------+-----------------+------+-----+---------+-------+\n"
     ]
    },
    {
     "data": {
      "text/plain": [
       "<prettytable.PrettyTable at 0x7fd1a3d870d0>"
      ]
     },
     "execution_count": 74,
     "metadata": {},
     "output_type": "execute_result"
    }
   ],
   "source": [
    "Table_Type(mycursor, \"Employee\")"
   ]
  },
  {
   "cell_type": "code",
   "execution_count": 75,
   "metadata": {},
   "outputs": [
    {
     "name": "stdout",
     "output_type": "stream",
     "text": [
      "create table A_Specialization(Spec_id int(10),Spec_name varchar(255),Aid int(10))\n"
     ]
    }
   ],
   "source": [
    "Create_Table(mycursor, table_name=\"A_Specialization\",\n",
    "             columns=[\"Spec_id\",\"Spec_name\",\"Aid\"],\n",
    "             columns_type=[\"int\",\"varchar\",\"int\"],\n",
    "             num=[10,255,10]\n",
    "            )"
   ]
  },
  {
   "cell_type": "code",
   "execution_count": 76,
   "metadata": {},
   "outputs": [
    {
     "name": "stdout",
     "output_type": "stream",
     "text": [
      "+-----------+-----------------+------+-----+---------+-------+\n",
      "|   Field   |       Type      | Null | Key | Default | Extra |\n",
      "+-----------+-----------------+------+-----+---------+-------+\n",
      "|  Spec_id  |      b'int'     | YES  |     |   None  |       |\n",
      "| Spec_name | b'varchar(255)' | YES  |     |   None  |       |\n",
      "|    Aid    |      b'int'     | YES  |     |   None  |       |\n",
      "+-----------+-----------------+------+-----+---------+-------+\n"
     ]
    },
    {
     "data": {
      "text/plain": [
       "<prettytable.PrettyTable at 0x7fd1a2bfacd0>"
      ]
     },
     "execution_count": 76,
     "metadata": {},
     "output_type": "execute_result"
    }
   ],
   "source": [
    "Table_Type(mycursor, \"A_Specialization\")"
   ]
  },
  {
   "cell_type": "code",
   "execution_count": 216,
   "metadata": {},
   "outputs": [
    {
     "name": "stdout",
     "output_type": "stream",
     "text": [
      "create table Student(Stuid int(10),Sname varchar(255),email varchar(255),Memid int(10),Deptid int(10),primary key(Stuid),foreign key (Memid) references Member(Memid),foreign key (Deptid) references Department(Deptid))\n"
     ]
    }
   ],
   "source": [
    "Create_Table(mycursor, table_name=\"Student\",\n",
    "             columns=[\"Stuid\", \"Sname\", \"email\", \"Memid\",\"Deptid\"],\n",
    "             columns_type=[\"int\", \"varchar\", \"varchar\", \"int\", \"int\"],\n",
    "             num=[10,255,255,10,10],\n",
    "             primary_key=[\"Stuid\"],\n",
    "             foreign_key=[\"Memid\",\"Deptid\"],\n",
    "             reference=[\"Member(Memid)\", \"Department(Deptid)\"]\n",
    "            )"
   ]
  },
  {
   "cell_type": "code",
   "execution_count": 217,
   "metadata": {},
   "outputs": [
    {
     "name": "stdout",
     "output_type": "stream",
     "text": [
      "+--------+-----------------+------+-----+---------+-------+\n",
      "| Field  |       Type      | Null | Key | Default | Extra |\n",
      "+--------+-----------------+------+-----+---------+-------+\n",
      "| Stuid  |      b'int'     |  NO  | PRI |   None  |       |\n",
      "| Sname  | b'varchar(255)' | YES  |     |   None  |       |\n",
      "| email  | b'varchar(255)' | YES  |     |   None  |       |\n",
      "| Memid  |      b'int'     | YES  | MUL |   None  |       |\n",
      "| Deptid |      b'int'     | YES  | MUL |   None  |       |\n",
      "+--------+-----------------+------+-----+---------+-------+\n"
     ]
    },
    {
     "data": {
      "text/plain": [
       "<prettytable.PrettyTable at 0x7fd68978dbe0>"
      ]
     },
     "execution_count": 217,
     "metadata": {},
     "output_type": "execute_result"
    }
   ],
   "source": [
    "Table_Type(mycursor, table_name=\"Student\")"
   ]
  },
  {
   "cell_type": "markdown",
   "metadata": {},
   "source": [
    "## Inserting values into Database"
   ]
  },
  {
   "cell_type": "code",
   "execution_count": 214,
   "metadata": {},
   "outputs": [],
   "source": [
    "mycursor.execute(\"show tables\")"
   ]
  },
  {
   "cell_type": "code",
   "execution_count": 215,
   "metadata": {},
   "outputs": [
    {
     "data": {
      "text/plain": [
       "[('A_Specialization',),\n",
       " ('Author',),\n",
       " ('Books',),\n",
       " ('Department',),\n",
       " ('Dummy',),\n",
       " ('Employee',),\n",
       " ('Ilibrary',),\n",
       " ('Issue',),\n",
       " ('Member',),\n",
       " ('Noofcopies',),\n",
       " ('Publisher',),\n",
       " ('Purchase',),\n",
       " ('Seller',),\n",
       " ('Sells',),\n",
       " ('SiuLibrary1',),\n",
       " ('Staff',),\n",
       " ('Writes',)]"
      ]
     },
     "execution_count": 215,
     "metadata": {},
     "output_type": "execute_result"
    }
   ],
   "source": [
    "mycursor.fetchall()"
   ]
  },
  {
   "cell_type": "code",
   "execution_count": 131,
   "metadata": {},
   "outputs": [],
   "source": [
    "# 1. Specialization\n",
    "\n",
    "df = pd.read_csv(\"Desktop/DBMS/DBMS dataset/Specialization.csv\")"
   ]
  },
  {
   "cell_type": "code",
   "execution_count": 133,
   "metadata": {},
   "outputs": [
    {
     "data": {
      "text/html": [
       "<div>\n",
       "<style scoped>\n",
       "    .dataframe tbody tr th:only-of-type {\n",
       "        vertical-align: middle;\n",
       "    }\n",
       "\n",
       "    .dataframe tbody tr th {\n",
       "        vertical-align: top;\n",
       "    }\n",
       "\n",
       "    .dataframe thead th {\n",
       "        text-align: right;\n",
       "    }\n",
       "</style>\n",
       "<table border=\"1\" class=\"dataframe\">\n",
       "  <thead>\n",
       "    <tr style=\"text-align: right;\">\n",
       "      <th></th>\n",
       "      <th>SpecId</th>\n",
       "      <th>SpecName</th>\n",
       "      <th>Aid</th>\n",
       "    </tr>\n",
       "  </thead>\n",
       "  <tbody>\n",
       "    <tr>\n",
       "      <th>0</th>\n",
       "      <td>13000</td>\n",
       "      <td>Masters of business in Katta</td>\n",
       "      <td>4000</td>\n",
       "    </tr>\n",
       "    <tr>\n",
       "      <th>1</th>\n",
       "      <td>13001</td>\n",
       "      <td>Masters of business in  Barfi</td>\n",
       "      <td>4001</td>\n",
       "    </tr>\n",
       "    <tr>\n",
       "      <th>2</th>\n",
       "      <td>13002</td>\n",
       "      <td>Masters of business in Car</td>\n",
       "      <td>4002</td>\n",
       "    </tr>\n",
       "    <tr>\n",
       "      <th>3</th>\n",
       "      <td>13003</td>\n",
       "      <td>Masters of business in Wine</td>\n",
       "      <td>4003</td>\n",
       "    </tr>\n",
       "  </tbody>\n",
       "</table>\n",
       "</div>"
      ],
      "text/plain": [
       "   SpecId                       SpecName   Aid\n",
       "0   13000   Masters of business in Katta  4000\n",
       "1   13001  Masters of business in  Barfi  4001\n",
       "2   13002     Masters of business in Car  4002\n",
       "3   13003    Masters of business in Wine  4003"
      ]
     },
     "execution_count": 133,
     "metadata": {},
     "output_type": "execute_result"
    }
   ],
   "source": [
    "df.drop(\"Unnamed: 3\", axis = 1, inplace = True)\n",
    "df.head()"
   ]
  },
  {
   "cell_type": "code",
   "execution_count": 145,
   "metadata": {},
   "outputs": [
    {
     "name": "stdout",
     "output_type": "stream",
     "text": [
      "insert into A_Specialization(Spec_id,Spec_name,Aid) values(13000,'Masters of business in Katta',4000)\n",
      "insert into A_Specialization(Spec_id,Spec_name,Aid) values(13001,'Masters of business in  Barfi',4001)\n",
      "insert into A_Specialization(Spec_id,Spec_name,Aid) values(13002,'Masters of business in Car',4002)\n",
      "insert into A_Specialization(Spec_id,Spec_name,Aid) values(13003,'Masters of business in Wine',4003)\n"
     ]
    }
   ],
   "source": [
    "for i in range(len(df)):\n",
    "    Insert_into_Table(mycursor,table_name=\"A_Specialization\",values=list(df.iloc[i]))"
   ]
  },
  {
   "cell_type": "code",
   "execution_count": 146,
   "metadata": {},
   "outputs": [
    {
     "name": "stdout",
     "output_type": "stream",
     "text": [
      "+---------+-------------------------------+------+\n",
      "| Spec_id |           Spec_name           | Aid  |\n",
      "+---------+-------------------------------+------+\n",
      "|  13000  |  Masters of business in Katta | 4000 |\n",
      "|  13001  | Masters of business in  Barfi | 4001 |\n",
      "|  13002  |   Masters of business in Car  | 4002 |\n",
      "|  13003  |  Masters of business in Wine  | 4003 |\n",
      "+---------+-------------------------------+------+\n"
     ]
    }
   ],
   "source": [
    "Show_Table(mycursor, table_name=\"A_Specialization\")"
   ]
  },
  {
   "cell_type": "code",
   "execution_count": 150,
   "metadata": {},
   "outputs": [],
   "source": [
    "# 2. SiuLibrary\n",
    "\n",
    "df = pd.read_csv(\"Desktop/DBMS/DBMS dataset/SiuLibrary.csv\") "
   ]
  },
  {
   "cell_type": "code",
   "execution_count": 152,
   "metadata": {},
   "outputs": [
    {
     "data": {
      "text/html": [
       "<div>\n",
       "<style scoped>\n",
       "    .dataframe tbody tr th:only-of-type {\n",
       "        vertical-align: middle;\n",
       "    }\n",
       "\n",
       "    .dataframe tbody tr th {\n",
       "        vertical-align: top;\n",
       "    }\n",
       "\n",
       "    .dataframe thead th {\n",
       "        text-align: right;\n",
       "    }\n",
       "</style>\n",
       "<table border=\"1\" class=\"dataframe\">\n",
       "  <thead>\n",
       "    <tr style=\"text-align: right;\">\n",
       "      <th></th>\n",
       "      <th>Slid</th>\n",
       "      <th>lname</th>\n",
       "      <th>Location</th>\n",
       "      <th>Noofbranches</th>\n",
       "    </tr>\n",
       "  </thead>\n",
       "  <tbody>\n",
       "    <tr>\n",
       "      <th>0</th>\n",
       "      <td>1000</td>\n",
       "      <td>Mirzapur_lib</td>\n",
       "      <td>Mirzapur</td>\n",
       "      <td>2</td>\n",
       "    </tr>\n",
       "    <tr>\n",
       "      <th>1</th>\n",
       "      <td>1001</td>\n",
       "      <td>Johnpur _lib</td>\n",
       "      <td>Johnpur</td>\n",
       "      <td>2</td>\n",
       "    </tr>\n",
       "    <tr>\n",
       "      <th>2</th>\n",
       "      <td>1002</td>\n",
       "      <td>Bihar_lib</td>\n",
       "      <td>Bihar</td>\n",
       "      <td>2</td>\n",
       "    </tr>\n",
       "  </tbody>\n",
       "</table>\n",
       "</div>"
      ],
      "text/plain": [
       "   Slid         lname  Location  Noofbranches\n",
       "0  1000  Mirzapur_lib  Mirzapur             2\n",
       "1  1001  Johnpur _lib   Johnpur             2\n",
       "2  1002     Bihar_lib     Bihar             2"
      ]
     },
     "execution_count": 152,
     "metadata": {},
     "output_type": "execute_result"
    }
   ],
   "source": [
    "df.drop([\"Unnamed: 4\", \"Unnamed: 5\"], axis = 1, inplace = True)\n",
    "df.head()"
   ]
  },
  {
   "cell_type": "code",
   "execution_count": 154,
   "metadata": {},
   "outputs": [
    {
     "name": "stdout",
     "output_type": "stream",
     "text": [
      "insert into SiuLibrary1(Slid,lname,location,noofbranches) values(1000,'Mirzapur_lib','Mirzapur',2)\n",
      "insert into SiuLibrary1(Slid,lname,location,noofbranches) values(1001,'Johnpur _lib','Johnpur',2)\n",
      "insert into SiuLibrary1(Slid,lname,location,noofbranches) values(1002,'Bihar_lib','Bihar',2)\n"
     ]
    }
   ],
   "source": [
    "for i in range(len(df)):\n",
    "    Insert_into_Table(mycursor, table_name=\"SiuLibrary1\", values=list(df.iloc[i]))"
   ]
  },
  {
   "cell_type": "code",
   "execution_count": 155,
   "metadata": {},
   "outputs": [
    {
     "name": "stdout",
     "output_type": "stream",
     "text": [
      "+------+--------------+----------+--------------+\n",
      "| Slid |    lname     | location | noofbranches |\n",
      "+------+--------------+----------+--------------+\n",
      "| 1000 | Mirzapur_lib | Mirzapur |      2       |\n",
      "| 1001 | Johnpur _lib | Johnpur  |      2       |\n",
      "| 1002 |  Bihar_lib   |  Bihar   |      2       |\n",
      "+------+--------------+----------+--------------+\n"
     ]
    }
   ],
   "source": [
    "Show_Table(mycursor, table_name=\"SiuLibrary1\")"
   ]
  },
  {
   "cell_type": "code",
   "execution_count": 159,
   "metadata": {},
   "outputs": [
    {
     "data": {
      "text/html": [
       "<div>\n",
       "<style scoped>\n",
       "    .dataframe tbody tr th:only-of-type {\n",
       "        vertical-align: middle;\n",
       "    }\n",
       "\n",
       "    .dataframe tbody tr th {\n",
       "        vertical-align: top;\n",
       "    }\n",
       "\n",
       "    .dataframe thead th {\n",
       "        text-align: right;\n",
       "    }\n",
       "</style>\n",
       "<table border=\"1\" class=\"dataframe\">\n",
       "  <thead>\n",
       "    <tr style=\"text-align: right;\">\n",
       "      <th></th>\n",
       "      <th>Lid</th>\n",
       "      <th>lname</th>\n",
       "      <th>City</th>\n",
       "      <th>Area</th>\n",
       "      <th>Slid</th>\n",
       "    </tr>\n",
       "  </thead>\n",
       "  <tbody>\n",
       "    <tr>\n",
       "      <th>0</th>\n",
       "      <td>2000</td>\n",
       "      <td>Mirzapur_lib</td>\n",
       "      <td>Mirzapur</td>\n",
       "      <td>Tripathi</td>\n",
       "      <td>1000</td>\n",
       "    </tr>\n",
       "    <tr>\n",
       "      <th>1</th>\n",
       "      <td>2001</td>\n",
       "      <td>Mirzapur_lib</td>\n",
       "      <td>Mirzapur</td>\n",
       "      <td>Tripathi</td>\n",
       "      <td>1000</td>\n",
       "    </tr>\n",
       "    <tr>\n",
       "      <th>2</th>\n",
       "      <td>2002</td>\n",
       "      <td>Johnpur_lib</td>\n",
       "      <td>Johnpur</td>\n",
       "      <td>Shankar</td>\n",
       "      <td>1001</td>\n",
       "    </tr>\n",
       "    <tr>\n",
       "      <th>3</th>\n",
       "      <td>2003</td>\n",
       "      <td>Johnpur_lib</td>\n",
       "      <td>Johnpur</td>\n",
       "      <td>Shankar</td>\n",
       "      <td>1001</td>\n",
       "    </tr>\n",
       "    <tr>\n",
       "      <th>4</th>\n",
       "      <td>2004</td>\n",
       "      <td>Bihar_lib</td>\n",
       "      <td>Bihar</td>\n",
       "      <td>Tyagi</td>\n",
       "      <td>1002</td>\n",
       "    </tr>\n",
       "  </tbody>\n",
       "</table>\n",
       "</div>"
      ],
      "text/plain": [
       "    Lid         lname      City      Area  Slid\n",
       "0  2000  Mirzapur_lib  Mirzapur  Tripathi  1000\n",
       "1  2001  Mirzapur_lib  Mirzapur  Tripathi  1000\n",
       "2  2002   Johnpur_lib   Johnpur   Shankar  1001\n",
       "3  2003   Johnpur_lib   Johnpur   Shankar  1001\n",
       "4  2004     Bihar_lib     Bihar     Tyagi  1002"
      ]
     },
     "execution_count": 159,
     "metadata": {},
     "output_type": "execute_result"
    }
   ],
   "source": [
    "# 3. LLibrary\n",
    "\n",
    "df = pd.read_csv(\"Desktop/DBMS/DBMS dataset/LLibrary.csv\") \n",
    "df.head()"
   ]
  },
  {
   "cell_type": "code",
   "execution_count": 160,
   "metadata": {},
   "outputs": [
    {
     "name": "stdout",
     "output_type": "stream",
     "text": [
      "insert into Ilibrary(Lid,lname,City,Area,Slid) values(2000,'Mirzapur_lib','Mirzapur','Tripathi',1000)\n",
      "insert into Ilibrary(Lid,lname,City,Area,Slid) values(2001,'Mirzapur_lib','Mirzapur','Tripathi',1000)\n",
      "insert into Ilibrary(Lid,lname,City,Area,Slid) values(2002,'Johnpur_lib','Johnpur','Shankar',1001)\n",
      "insert into Ilibrary(Lid,lname,City,Area,Slid) values(2003,'Johnpur_lib','Johnpur','Shankar',1001)\n",
      "insert into Ilibrary(Lid,lname,City,Area,Slid) values(2004,'Bihar_lib','Bihar','Tyagi',1002)\n",
      "insert into Ilibrary(Lid,lname,City,Area,Slid) values(2005,'Bihar_lib','Bihar','Tyagi',1002)\n"
     ]
    }
   ],
   "source": [
    "for i in range(len(df)):\n",
    "    Insert_into_Table(mycursor, table_name=\"Ilibrary\", values=list(df.iloc[i]))"
   ]
  },
  {
   "cell_type": "code",
   "execution_count": 161,
   "metadata": {},
   "outputs": [
    {
     "data": {
      "text/html": [
       "<div>\n",
       "<style scoped>\n",
       "    .dataframe tbody tr th:only-of-type {\n",
       "        vertical-align: middle;\n",
       "    }\n",
       "\n",
       "    .dataframe tbody tr th {\n",
       "        vertical-align: top;\n",
       "    }\n",
       "\n",
       "    .dataframe thead th {\n",
       "        text-align: right;\n",
       "    }\n",
       "</style>\n",
       "<table border=\"1\" class=\"dataframe\">\n",
       "  <thead>\n",
       "    <tr style=\"text-align: right;\">\n",
       "      <th></th>\n",
       "      <th>Bid</th>\n",
       "      <th>BName</th>\n",
       "      <th>Price</th>\n",
       "      <th>Lid</th>\n",
       "    </tr>\n",
       "  </thead>\n",
       "  <tbody>\n",
       "    <tr>\n",
       "      <th>0</th>\n",
       "      <td>3000</td>\n",
       "      <td>Katto ka vyapaar</td>\n",
       "      <td>1000</td>\n",
       "      <td>2000</td>\n",
       "    </tr>\n",
       "    <tr>\n",
       "      <th>1</th>\n",
       "      <td>3001</td>\n",
       "      <td>Barfi ka vyapaar</td>\n",
       "      <td>5000</td>\n",
       "      <td>2000</td>\n",
       "    </tr>\n",
       "    <tr>\n",
       "      <th>2</th>\n",
       "      <td>3002</td>\n",
       "      <td>Katto ka vyapaar</td>\n",
       "      <td>1000</td>\n",
       "      <td>2001</td>\n",
       "    </tr>\n",
       "    <tr>\n",
       "      <th>3</th>\n",
       "      <td>3003</td>\n",
       "      <td>Barfi ka vyapaar</td>\n",
       "      <td>5000</td>\n",
       "      <td>2001</td>\n",
       "    </tr>\n",
       "    <tr>\n",
       "      <th>4</th>\n",
       "      <td>3004</td>\n",
       "      <td>Wine ka Vyapaar</td>\n",
       "      <td>2000</td>\n",
       "      <td>2002</td>\n",
       "    </tr>\n",
       "  </tbody>\n",
       "</table>\n",
       "</div>"
      ],
      "text/plain": [
       "    Bid             BName  Price   Lid\n",
       "0  3000  Katto ka vyapaar   1000  2000\n",
       "1  3001  Barfi ka vyapaar   5000  2000\n",
       "2  3002  Katto ka vyapaar   1000  2001\n",
       "3  3003  Barfi ka vyapaar   5000  2001\n",
       "4  3004   Wine ka Vyapaar   2000  2002"
      ]
     },
     "execution_count": 161,
     "metadata": {},
     "output_type": "execute_result"
    }
   ],
   "source": [
    "# 4. Books\n",
    "\n",
    "df = pd.read_csv(\"Desktop/DBMS/DBMS dataset/Books.csv\")\n",
    "df.head()"
   ]
  },
  {
   "cell_type": "code",
   "execution_count": 162,
   "metadata": {},
   "outputs": [
    {
     "name": "stdout",
     "output_type": "stream",
     "text": [
      "insert into Books(Bid,Bname,Price,Lid) values(3000,'Katto ka vyapaar',1000,2000)\n",
      "insert into Books(Bid,Bname,Price,Lid) values(3001,'Barfi ka vyapaar',5000,2000)\n",
      "insert into Books(Bid,Bname,Price,Lid) values(3002,'Katto ka vyapaar',1000,2001)\n",
      "insert into Books(Bid,Bname,Price,Lid) values(3003,'Barfi ka vyapaar',5000,2001)\n",
      "insert into Books(Bid,Bname,Price,Lid) values(3004,'Wine ka Vyapaar',2000,2002)\n",
      "insert into Books(Bid,Bname,Price,Lid) values(3005,'Wine ka Vyapaar',2000,2003)\n",
      "insert into Books(Bid,Bname,Price,Lid) values(3006,'Car ka Vyapaar',3000,2004)\n",
      "insert into Books(Bid,Bname,Price,Lid) values(3007,'Katto ka Vyapper',1000,2004)\n",
      "insert into Books(Bid,Bname,Price,Lid) values(3008,'Barfi ka Vyapaar',5000,2004)\n",
      "insert into Books(Bid,Bname,Price,Lid) values(3009,'Car ka Vyapaar',3000,2005)\n",
      "insert into Books(Bid,Bname,Price,Lid) values(3010,'Katto ka Vyapper',1000,2005)\n",
      "insert into Books(Bid,Bname,Price,Lid) values(3011,'Barfi ka Vyapaar',5000,2005)\n"
     ]
    }
   ],
   "source": [
    "for i in range(len(df)):\n",
    "    Insert_into_Table(mycursor, table_name=\"Books\", values=list(df.iloc[i]))"
   ]
  },
  {
   "cell_type": "code",
   "execution_count": 163,
   "metadata": {},
   "outputs": [
    {
     "name": "stdout",
     "output_type": "stream",
     "text": [
      "+------+------------------+-------+------+\n",
      "| Bid  |      Bname       | Price | Lid  |\n",
      "+------+------------------+-------+------+\n",
      "| 3000 | Katto ka vyapaar |  1000 | 2000 |\n",
      "| 3001 | Barfi ka vyapaar |  5000 | 2000 |\n",
      "| 3002 | Katto ka vyapaar |  1000 | 2001 |\n",
      "| 3003 | Barfi ka vyapaar |  5000 | 2001 |\n",
      "| 3004 | Wine ka Vyapaar  |  2000 | 2002 |\n",
      "| 3005 | Wine ka Vyapaar  |  2000 | 2003 |\n",
      "| 3006 |  Car ka Vyapaar  |  3000 | 2004 |\n",
      "| 3007 | Katto ka Vyapper |  1000 | 2004 |\n",
      "| 3008 | Barfi ka Vyapaar |  5000 | 2004 |\n",
      "| 3009 |  Car ka Vyapaar  |  3000 | 2005 |\n",
      "| 3010 | Katto ka Vyapper |  1000 | 2005 |\n",
      "| 3011 | Barfi ka Vyapaar |  5000 | 2005 |\n",
      "+------+------------------+-------+------+\n"
     ]
    }
   ],
   "source": [
    "Show_Table(mycursor, table_name=\"Books\")"
   ]
  },
  {
   "cell_type": "code",
   "execution_count": 164,
   "metadata": {},
   "outputs": [
    {
     "data": {
      "text/html": [
       "<div>\n",
       "<style scoped>\n",
       "    .dataframe tbody tr th:only-of-type {\n",
       "        vertical-align: middle;\n",
       "    }\n",
       "\n",
       "    .dataframe tbody tr th {\n",
       "        vertical-align: top;\n",
       "    }\n",
       "\n",
       "    .dataframe thead th {\n",
       "        text-align: right;\n",
       "    }\n",
       "</style>\n",
       "<table border=\"1\" class=\"dataframe\">\n",
       "  <thead>\n",
       "    <tr style=\"text-align: right;\">\n",
       "      <th></th>\n",
       "      <th>Aid</th>\n",
       "      <th>Author Name</th>\n",
       "      <th>Email</th>\n",
       "      <th>phone.no</th>\n",
       "    </tr>\n",
       "  </thead>\n",
       "  <tbody>\n",
       "    <tr>\n",
       "      <th>0</th>\n",
       "      <td>4000</td>\n",
       "      <td>Munna Bhaiya</td>\n",
       "      <td>munna.king_of_mirzapur@gmail.com</td>\n",
       "      <td>959396930</td>\n",
       "    </tr>\n",
       "    <tr>\n",
       "      <th>1</th>\n",
       "      <td>4001</td>\n",
       "      <td>Ali</td>\n",
       "      <td>Ali.with_guddu@gmail.com</td>\n",
       "      <td>959294729</td>\n",
       "    </tr>\n",
       "    <tr>\n",
       "      <th>2</th>\n",
       "      <td>4002</td>\n",
       "      <td>Bade Tyagi</td>\n",
       "      <td>dadda.king_of_bihar@gmail.com</td>\n",
       "      <td>947253751</td>\n",
       "    </tr>\n",
       "    <tr>\n",
       "      <th>3</th>\n",
       "      <td>4003</td>\n",
       "      <td>Shankar_factory</td>\n",
       "      <td>shankar.king_of_johnpur@gmail.com</td>\n",
       "      <td>867295361</td>\n",
       "    </tr>\n",
       "  </tbody>\n",
       "</table>\n",
       "</div>"
      ],
      "text/plain": [
       "    Aid      Author Name                              Email   phone.no\n",
       "0  4000     Munna Bhaiya   munna.king_of_mirzapur@gmail.com  959396930\n",
       "1  4001             Ali           Ali.with_guddu@gmail.com   959294729\n",
       "2  4002       Bade Tyagi      dadda.king_of_bihar@gmail.com  947253751\n",
       "3  4003  Shankar_factory  shankar.king_of_johnpur@gmail.com  867295361"
      ]
     },
     "execution_count": 164,
     "metadata": {},
     "output_type": "execute_result"
    }
   ],
   "source": [
    "# 5. Author\n",
    "\n",
    "df = pd.read_csv(\"Desktop/DBMS/DBMS dataset/Author.csv\")\n",
    "df.head()"
   ]
  },
  {
   "cell_type": "code",
   "execution_count": 165,
   "metadata": {},
   "outputs": [
    {
     "name": "stdout",
     "output_type": "stream",
     "text": [
      "insert into Author(Aid,Aname,email,PhoneNo) values(4000,'Munna Bhaiya','munna.king_of_mirzapur@gmail.com',959396930)\n",
      "insert into Author(Aid,Aname,email,PhoneNo) values(4001,'Ali ','Ali.with_guddu@gmail.com ',959294729)\n",
      "insert into Author(Aid,Aname,email,PhoneNo) values(4002,'Bade Tyagi','dadda.king_of_bihar@gmail.com',947253751)\n",
      "insert into Author(Aid,Aname,email,PhoneNo) values(4003,'Shankar_factory','shankar.king_of_johnpur@gmail.com',867295361)\n"
     ]
    }
   ],
   "source": [
    "for i in range(len(df)):\n",
    "    Insert_into_Table(mycursor, table_name=\"Author\", values=list(df.iloc[i]))"
   ]
  },
  {
   "cell_type": "code",
   "execution_count": 166,
   "metadata": {},
   "outputs": [
    {
     "name": "stdout",
     "output_type": "stream",
     "text": [
      "+------+-----------------+-----------------------------------+-----------+\n",
      "| Aid  |      Aname      |               email               |  PhoneNo  |\n",
      "+------+-----------------+-----------------------------------+-----------+\n",
      "| 4000 |   Munna Bhaiya  |  munna.king_of_mirzapur@gmail.com | 959396930 |\n",
      "| 4001 |       Ali       |     Ali.with_guddu@gmail.com      | 959294729 |\n",
      "| 4002 |    Bade Tyagi   |   dadda.king_of_bihar@gmail.com   | 947253751 |\n",
      "| 4003 | Shankar_factory | shankar.king_of_johnpur@gmail.com | 867295361 |\n",
      "+------+-----------------+-----------------------------------+-----------+\n"
     ]
    }
   ],
   "source": [
    "Show_Table(mycursor, table_name=\"Author\")"
   ]
  },
  {
   "cell_type": "code",
   "execution_count": 169,
   "metadata": {},
   "outputs": [
    {
     "data": {
      "text/html": [
       "<div>\n",
       "<style scoped>\n",
       "    .dataframe tbody tr th:only-of-type {\n",
       "        vertical-align: middle;\n",
       "    }\n",
       "\n",
       "    .dataframe tbody tr th {\n",
       "        vertical-align: top;\n",
       "    }\n",
       "\n",
       "    .dataframe thead th {\n",
       "        text-align: right;\n",
       "    }\n",
       "</style>\n",
       "<table border=\"1\" class=\"dataframe\">\n",
       "  <thead>\n",
       "    <tr style=\"text-align: right;\">\n",
       "      <th></th>\n",
       "      <th>Bid</th>\n",
       "      <th>Aid</th>\n",
       "      <th>Pid</th>\n",
       "    </tr>\n",
       "  </thead>\n",
       "  <tbody>\n",
       "    <tr>\n",
       "      <th>0</th>\n",
       "      <td>3000</td>\n",
       "      <td>4000</td>\n",
       "      <td>5000</td>\n",
       "    </tr>\n",
       "    <tr>\n",
       "      <th>1</th>\n",
       "      <td>3001</td>\n",
       "      <td>4001</td>\n",
       "      <td>5001</td>\n",
       "    </tr>\n",
       "    <tr>\n",
       "      <th>2</th>\n",
       "      <td>3002</td>\n",
       "      <td>4002</td>\n",
       "      <td>5002</td>\n",
       "    </tr>\n",
       "    <tr>\n",
       "      <th>3</th>\n",
       "      <td>3003</td>\n",
       "      <td>4003</td>\n",
       "      <td>5003</td>\n",
       "    </tr>\n",
       "  </tbody>\n",
       "</table>\n",
       "</div>"
      ],
      "text/plain": [
       "    Bid   Aid   Pid\n",
       "0  3000  4000  5000\n",
       "1  3001  4001  5001\n",
       "2  3002  4002  5002\n",
       "3  3003  4003  5003"
      ]
     },
     "execution_count": 169,
     "metadata": {},
     "output_type": "execute_result"
    }
   ],
   "source": [
    "# 6. Writes\n",
    "\n",
    "df = pd.read_csv(\"Desktop/DBMS/DBMS dataset/Writes.csv\")\n",
    "df.drop(\"Unnamed: 3\", axis = 1, inplace = True)\n",
    "df.head()"
   ]
  },
  {
   "cell_type": "code",
   "execution_count": 170,
   "metadata": {},
   "outputs": [
    {
     "name": "stdout",
     "output_type": "stream",
     "text": [
      "insert into Writes(Bid,Aid,Pid) values(3000,4000,5000)\n",
      "insert into Writes(Bid,Aid,Pid) values(3001,4001,5001)\n",
      "insert into Writes(Bid,Aid,Pid) values(3002,4002,5002)\n",
      "insert into Writes(Bid,Aid,Pid) values(3003,4003,5003)\n"
     ]
    }
   ],
   "source": [
    "for i in range(len(df)):\n",
    "    Insert_into_Table(mycursor, table_name=\"Writes\", values=list(df.iloc[i]))"
   ]
  },
  {
   "cell_type": "code",
   "execution_count": 173,
   "metadata": {},
   "outputs": [
    {
     "data": {
      "text/html": [
       "<div>\n",
       "<style scoped>\n",
       "    .dataframe tbody tr th:only-of-type {\n",
       "        vertical-align: middle;\n",
       "    }\n",
       "\n",
       "    .dataframe tbody tr th {\n",
       "        vertical-align: top;\n",
       "    }\n",
       "\n",
       "    .dataframe thead th {\n",
       "        text-align: right;\n",
       "    }\n",
       "</style>\n",
       "<table border=\"1\" class=\"dataframe\">\n",
       "  <thead>\n",
       "    <tr style=\"text-align: right;\">\n",
       "      <th></th>\n",
       "      <th>Pid</th>\n",
       "      <th>PName</th>\n",
       "    </tr>\n",
       "  </thead>\n",
       "  <tbody>\n",
       "    <tr>\n",
       "      <th>0</th>\n",
       "      <td>5000</td>\n",
       "      <td>Kaalien Bhaiya</td>\n",
       "    </tr>\n",
       "    <tr>\n",
       "      <th>1</th>\n",
       "      <td>5001</td>\n",
       "      <td>Guddu Bhaiya</td>\n",
       "    </tr>\n",
       "    <tr>\n",
       "      <th>2</th>\n",
       "      <td>5002</td>\n",
       "      <td>Dadda Tyagi</td>\n",
       "    </tr>\n",
       "    <tr>\n",
       "      <th>3</th>\n",
       "      <td>5003</td>\n",
       "      <td>Rati Shankar</td>\n",
       "    </tr>\n",
       "  </tbody>\n",
       "</table>\n",
       "</div>"
      ],
      "text/plain": [
       "    Pid           PName\n",
       "0  5000  Kaalien Bhaiya\n",
       "1  5001    Guddu Bhaiya\n",
       "2  5002     Dadda Tyagi\n",
       "3  5003    Rati Shankar"
      ]
     },
     "execution_count": 173,
     "metadata": {},
     "output_type": "execute_result"
    }
   ],
   "source": [
    "# 7. Publisher\n",
    "\n",
    "df = pd.read_csv(\"Desktop/DBMS/DBMS dataset/Publisher.csv\")\n",
    "df.drop([\"Unnamed: 2\" ,\"Unnamed: 3\"], axis = 1, inplace = True)\n",
    "df.head()"
   ]
  },
  {
   "cell_type": "code",
   "execution_count": 174,
   "metadata": {},
   "outputs": [
    {
     "name": "stdout",
     "output_type": "stream",
     "text": [
      "insert into Publisher(Pid,Pname) values(5000,'Kaalien Bhaiya')\n",
      "insert into Publisher(Pid,Pname) values(5001,'Guddu Bhaiya')\n",
      "insert into Publisher(Pid,Pname) values(5002,'Dadda Tyagi')\n",
      "insert into Publisher(Pid,Pname) values(5003,'Rati Shankar')\n"
     ]
    }
   ],
   "source": [
    "for i in range(len(df)):\n",
    "    Insert_into_Table(mycursor, table_name=\"Publisher\", values= list(df.iloc[i]))"
   ]
  },
  {
   "cell_type": "code",
   "execution_count": 175,
   "metadata": {},
   "outputs": [
    {
     "name": "stdout",
     "output_type": "stream",
     "text": [
      "+------+----------------+\n",
      "| Pid  |     Pname      |\n",
      "+------+----------------+\n",
      "| 5000 | Kaalien Bhaiya |\n",
      "| 5001 |  Guddu Bhaiya  |\n",
      "| 5002 |  Dadda Tyagi   |\n",
      "| 5003 |  Rati Shankar  |\n",
      "+------+----------------+\n"
     ]
    }
   ],
   "source": [
    "Show_Table(mycursor, table_name=\"Publisher\")"
   ]
  },
  {
   "cell_type": "code",
   "execution_count": 177,
   "metadata": {},
   "outputs": [
    {
     "data": {
      "text/html": [
       "<div>\n",
       "<style scoped>\n",
       "    .dataframe tbody tr th:only-of-type {\n",
       "        vertical-align: middle;\n",
       "    }\n",
       "\n",
       "    .dataframe tbody tr th {\n",
       "        vertical-align: top;\n",
       "    }\n",
       "\n",
       "    .dataframe thead th {\n",
       "        text-align: right;\n",
       "    }\n",
       "</style>\n",
       "<table border=\"1\" class=\"dataframe\">\n",
       "  <thead>\n",
       "    <tr style=\"text-align: right;\">\n",
       "      <th></th>\n",
       "      <th>Sid</th>\n",
       "      <th>Slname</th>\n",
       "      <th>City</th>\n",
       "    </tr>\n",
       "  </thead>\n",
       "  <tbody>\n",
       "    <tr>\n",
       "      <th>0</th>\n",
       "      <td>6000</td>\n",
       "      <td>Makbool</td>\n",
       "      <td>Mirzapur</td>\n",
       "    </tr>\n",
       "    <tr>\n",
       "      <th>1</th>\n",
       "      <td>6001</td>\n",
       "      <td>Golu</td>\n",
       "      <td>Sultanpur</td>\n",
       "    </tr>\n",
       "    <tr>\n",
       "      <th>2</th>\n",
       "      <td>6002</td>\n",
       "      <td>Chote Tyagi</td>\n",
       "      <td>Bihar</td>\n",
       "    </tr>\n",
       "    <tr>\n",
       "      <th>3</th>\n",
       "      <td>6003</td>\n",
       "      <td>Sharad</td>\n",
       "      <td>Johnpur</td>\n",
       "    </tr>\n",
       "  </tbody>\n",
       "</table>\n",
       "</div>"
      ],
      "text/plain": [
       "    Sid       Slname       City\n",
       "0  6000      Makbool   Mirzapur\n",
       "1  6001         Golu  Sultanpur\n",
       "2  6002  Chote Tyagi      Bihar\n",
       "3  6003       Sharad    Johnpur"
      ]
     },
     "execution_count": 177,
     "metadata": {},
     "output_type": "execute_result"
    }
   ],
   "source": [
    "#  8. Seller\n",
    "\n",
    "df = pd.read_csv(\"Desktop/DBMS/DBMS dataset/Seller.csv\")\n",
    "df.drop(\"Unnamed: 3\", axis = 1, inplace = True)\n",
    "df.head()"
   ]
  },
  {
   "cell_type": "code",
   "execution_count": 178,
   "metadata": {},
   "outputs": [
    {
     "name": "stdout",
     "output_type": "stream",
     "text": [
      "insert into Seller(Sid,slname,City) values(6000,'Makbool','Mirzapur')\n",
      "insert into Seller(Sid,slname,City) values(6001,'Golu','Sultanpur')\n",
      "insert into Seller(Sid,slname,City) values(6002,'Chote Tyagi','Bihar')\n",
      "insert into Seller(Sid,slname,City) values(6003,'Sharad','Johnpur')\n"
     ]
    }
   ],
   "source": [
    "for i in range(len(df)):\n",
    "    Insert_into_Table(mycursor, table_name=\"Seller\", values=list(df.iloc[i]))"
   ]
  },
  {
   "cell_type": "code",
   "execution_count": 179,
   "metadata": {},
   "outputs": [
    {
     "name": "stdout",
     "output_type": "stream",
     "text": [
      "+------+-------------+-----------+\n",
      "| Sid  |    slname   |    City   |\n",
      "+------+-------------+-----------+\n",
      "| 6000 |   Makbool   |  Mirzapur |\n",
      "| 6001 |     Golu    | Sultanpur |\n",
      "| 6002 | Chote Tyagi |   Bihar   |\n",
      "| 6003 |    Sharad   |  Johnpur  |\n",
      "+------+-------------+-----------+\n"
     ]
    }
   ],
   "source": [
    "Show_Table(mycursor, table_name=\"Seller\")"
   ]
  },
  {
   "cell_type": "code",
   "execution_count": 191,
   "metadata": {},
   "outputs": [
    {
     "data": {
      "text/html": [
       "<div>\n",
       "<style scoped>\n",
       "    .dataframe tbody tr th:only-of-type {\n",
       "        vertical-align: middle;\n",
       "    }\n",
       "\n",
       "    .dataframe tbody tr th {\n",
       "        vertical-align: top;\n",
       "    }\n",
       "\n",
       "    .dataframe thead th {\n",
       "        text-align: right;\n",
       "    }\n",
       "</style>\n",
       "<table border=\"1\" class=\"dataframe\">\n",
       "  <thead>\n",
       "    <tr style=\"text-align: right;\">\n",
       "      <th></th>\n",
       "      <th>Deptid</th>\n",
       "      <th>Deptname</th>\n",
       "      <th>lname</th>\n",
       "      <th>Lid</th>\n",
       "    </tr>\n",
       "  </thead>\n",
       "  <tbody>\n",
       "    <tr>\n",
       "      <th>0</th>\n",
       "      <td>8000</td>\n",
       "      <td>Katta</td>\n",
       "      <td>Mirzapur_lib</td>\n",
       "      <td>2000</td>\n",
       "    </tr>\n",
       "    <tr>\n",
       "      <th>1</th>\n",
       "      <td>8001</td>\n",
       "      <td>Barfi</td>\n",
       "      <td>Mirzapur_lib</td>\n",
       "      <td>2000</td>\n",
       "    </tr>\n",
       "    <tr>\n",
       "      <th>2</th>\n",
       "      <td>8002</td>\n",
       "      <td>Katta</td>\n",
       "      <td>Mirzapur_lib</td>\n",
       "      <td>2001</td>\n",
       "    </tr>\n",
       "    <tr>\n",
       "      <th>3</th>\n",
       "      <td>8003</td>\n",
       "      <td>Barfi</td>\n",
       "      <td>Mirzapur_lib</td>\n",
       "      <td>2001</td>\n",
       "    </tr>\n",
       "    <tr>\n",
       "      <th>4</th>\n",
       "      <td>8004</td>\n",
       "      <td>Wine</td>\n",
       "      <td>Johnpur_lib</td>\n",
       "      <td>2002</td>\n",
       "    </tr>\n",
       "  </tbody>\n",
       "</table>\n",
       "</div>"
      ],
      "text/plain": [
       "   Deptid Deptname         lname   Lid\n",
       "0    8000    Katta  Mirzapur_lib  2000\n",
       "1    8001    Barfi  Mirzapur_lib  2000\n",
       "2    8002    Katta  Mirzapur_lib  2001\n",
       "3    8003    Barfi  Mirzapur_lib  2001\n",
       "4    8004     Wine   Johnpur_lib  2002"
      ]
     },
     "execution_count": 191,
     "metadata": {},
     "output_type": "execute_result"
    }
   ],
   "source": [
    "# 9. Department\n",
    "\n",
    "df = pd.read_csv(\"Desktop/DBMS/DBMS dataset/Department.csv\")\n",
    "df.head()"
   ]
  },
  {
   "cell_type": "code",
   "execution_count": 192,
   "metadata": {},
   "outputs": [
    {
     "name": "stdout",
     "output_type": "stream",
     "text": [
      "insert into Department(DeptId,Deptname,Iname,Lid) values(8000,'Katta','Mirzapur_lib',2000)\n",
      "insert into Department(DeptId,Deptname,Iname,Lid) values(8001,'Barfi','Mirzapur_lib',2000)\n",
      "insert into Department(DeptId,Deptname,Iname,Lid) values(8002,'Katta','Mirzapur_lib',2001)\n",
      "insert into Department(DeptId,Deptname,Iname,Lid) values(8003,'Barfi','Mirzapur_lib',2001)\n",
      "insert into Department(DeptId,Deptname,Iname,Lid) values(8004,'Wine','Johnpur_lib',2002)\n",
      "insert into Department(DeptId,Deptname,Iname,Lid) values(8005,'Wine','Johnpur_lib',2002)\n",
      "insert into Department(DeptId,Deptname,Iname,Lid) values(8006,'Car','Bihar_lib',2003)\n",
      "insert into Department(DeptId,Deptname,Iname,Lid) values(8007,'Katta','Bihar_lib',2003)\n",
      "insert into Department(DeptId,Deptname,Iname,Lid) values(8008,'Barfi','Bihar_lib',2004)\n",
      "insert into Department(DeptId,Deptname,Iname,Lid) values(8009,'Car','Bihar_lib',2004)\n",
      "insert into Department(DeptId,Deptname,Iname,Lid) values(8010,'Katta','Bihar_lib',2005)\n",
      "insert into Department(DeptId,Deptname,Iname,Lid) values(8011,'Barfi','Bihar_lib',2005)\n"
     ]
    }
   ],
   "source": [
    "for i in range(len(df)):\n",
    "    Insert_into_Table(mycursor, table_name=\"Department\", values=list(df.iloc[i]))"
   ]
  },
  {
   "cell_type": "code",
   "execution_count": 193,
   "metadata": {},
   "outputs": [
    {
     "name": "stdout",
     "output_type": "stream",
     "text": [
      "+--------+----------+--------------+------+\n",
      "| DeptId | Deptname |    Iname     | Lid  |\n",
      "+--------+----------+--------------+------+\n",
      "|  8000  |  Katta   | Mirzapur_lib | 2000 |\n",
      "|  8001  |  Barfi   | Mirzapur_lib | 2000 |\n",
      "|  8002  |  Katta   | Mirzapur_lib | 2001 |\n",
      "|  8003  |  Barfi   | Mirzapur_lib | 2001 |\n",
      "|  8004  |   Wine   | Johnpur_lib  | 2002 |\n",
      "|  8005  |   Wine   | Johnpur_lib  | 2002 |\n",
      "|  8006  |   Car    |  Bihar_lib   | 2003 |\n",
      "|  8007  |  Katta   |  Bihar_lib   | 2003 |\n",
      "|  8008  |  Barfi   |  Bihar_lib   | 2004 |\n",
      "|  8009  |   Car    |  Bihar_lib   | 2004 |\n",
      "|  8010  |  Katta   |  Bihar_lib   | 2005 |\n",
      "|  8011  |  Barfi   |  Bihar_lib   | 2005 |\n",
      "+--------+----------+--------------+------+\n"
     ]
    }
   ],
   "source": [
    "Show_Table(mycursor, table_name=\"Department\")"
   ]
  },
  {
   "cell_type": "code",
   "execution_count": 199,
   "metadata": {},
   "outputs": [
    {
     "data": {
      "text/html": [
       "<div>\n",
       "<style scoped>\n",
       "    .dataframe tbody tr th:only-of-type {\n",
       "        vertical-align: middle;\n",
       "    }\n",
       "\n",
       "    .dataframe tbody tr th {\n",
       "        vertical-align: top;\n",
       "    }\n",
       "\n",
       "    .dataframe thead th {\n",
       "        text-align: right;\n",
       "    }\n",
       "</style>\n",
       "<table border=\"1\" class=\"dataframe\">\n",
       "  <thead>\n",
       "    <tr style=\"text-align: right;\">\n",
       "      <th></th>\n",
       "      <th>Sid</th>\n",
       "      <th>Bid</th>\n",
       "      <th>Pid</th>\n",
       "    </tr>\n",
       "  </thead>\n",
       "  <tbody>\n",
       "    <tr>\n",
       "      <th>0</th>\n",
       "      <td>6000</td>\n",
       "      <td>3000</td>\n",
       "      <td>5000</td>\n",
       "    </tr>\n",
       "    <tr>\n",
       "      <th>1</th>\n",
       "      <td>6001</td>\n",
       "      <td>3001</td>\n",
       "      <td>5001</td>\n",
       "    </tr>\n",
       "    <tr>\n",
       "      <th>2</th>\n",
       "      <td>6002</td>\n",
       "      <td>3002</td>\n",
       "      <td>5002</td>\n",
       "    </tr>\n",
       "    <tr>\n",
       "      <th>3</th>\n",
       "      <td>6003</td>\n",
       "      <td>3003</td>\n",
       "      <td>5003</td>\n",
       "    </tr>\n",
       "  </tbody>\n",
       "</table>\n",
       "</div>"
      ],
      "text/plain": [
       "    Sid   Bid   Pid\n",
       "0  6000  3000  5000\n",
       "1  6001  3001  5001\n",
       "2  6002  3002  5002\n",
       "3  6003  3003  5003"
      ]
     },
     "execution_count": 199,
     "metadata": {},
     "output_type": "execute_result"
    }
   ],
   "source": [
    "# 10. Sells\n",
    "\n",
    "df = pd.read_csv(\"Desktop/DBMS/DBMS dataset/Sells.csv\")\n",
    "df.head()"
   ]
  },
  {
   "cell_type": "code",
   "execution_count": 200,
   "metadata": {},
   "outputs": [
    {
     "name": "stdout",
     "output_type": "stream",
     "text": [
      "insert into Sells(Sid,Bid,Pid) values(6000,3000,5000)\n",
      "insert into Sells(Sid,Bid,Pid) values(6001,3001,5001)\n",
      "insert into Sells(Sid,Bid,Pid) values(6002,3002,5002)\n",
      "insert into Sells(Sid,Bid,Pid) values(6003,3003,5003)\n"
     ]
    }
   ],
   "source": [
    "for i in range(len(df)):\n",
    "    Insert_into_Table(mycursor, table_name=\"Sells\", values=list(df.iloc[i]))"
   ]
  },
  {
   "cell_type": "code",
   "execution_count": 201,
   "metadata": {},
   "outputs": [
    {
     "name": "stdout",
     "output_type": "stream",
     "text": [
      "+------+------+------+\n",
      "| Sid  | Bid  | Pid  |\n",
      "+------+------+------+\n",
      "| 6000 | 3000 | 5000 |\n",
      "| 6001 | 3001 | 5001 |\n",
      "| 6002 | 3002 | 5002 |\n",
      "| 6003 | 3003 | 5003 |\n",
      "+------+------+------+\n"
     ]
    }
   ],
   "source": [
    "Show_Table(mycursor, table_name=\"Sells\")"
   ]
  },
  {
   "cell_type": "code",
   "execution_count": 203,
   "metadata": {},
   "outputs": [
    {
     "data": {
      "text/html": [
       "<div>\n",
       "<style scoped>\n",
       "    .dataframe tbody tr th:only-of-type {\n",
       "        vertical-align: middle;\n",
       "    }\n",
       "\n",
       "    .dataframe tbody tr th {\n",
       "        vertical-align: top;\n",
       "    }\n",
       "\n",
       "    .dataframe thead th {\n",
       "        text-align: right;\n",
       "    }\n",
       "</style>\n",
       "<table border=\"1\" class=\"dataframe\">\n",
       "  <thead>\n",
       "    <tr style=\"text-align: right;\">\n",
       "      <th></th>\n",
       "      <th>Eid</th>\n",
       "      <th>Empname</th>\n",
       "      <th>Email</th>\n",
       "      <th>Salary</th>\n",
       "      <th>Lid</th>\n",
       "    </tr>\n",
       "  </thead>\n",
       "  <tbody>\n",
       "    <tr>\n",
       "      <th>0</th>\n",
       "      <td>10000</td>\n",
       "      <td>Dummy 1</td>\n",
       "      <td>1@gmail.com</td>\n",
       "      <td>10000</td>\n",
       "      <td>2000</td>\n",
       "    </tr>\n",
       "    <tr>\n",
       "      <th>1</th>\n",
       "      <td>10001</td>\n",
       "      <td>Dummy 2</td>\n",
       "      <td>2@gmail.com</td>\n",
       "      <td>5000</td>\n",
       "      <td>2000</td>\n",
       "    </tr>\n",
       "    <tr>\n",
       "      <th>2</th>\n",
       "      <td>10002</td>\n",
       "      <td>Dummy 3</td>\n",
       "      <td>3@gmail.com</td>\n",
       "      <td>10000</td>\n",
       "      <td>2001</td>\n",
       "    </tr>\n",
       "    <tr>\n",
       "      <th>3</th>\n",
       "      <td>10003</td>\n",
       "      <td>Dummy 4</td>\n",
       "      <td>4@gmail.com</td>\n",
       "      <td>5000</td>\n",
       "      <td>2001</td>\n",
       "    </tr>\n",
       "    <tr>\n",
       "      <th>4</th>\n",
       "      <td>10004</td>\n",
       "      <td>Dummy 5</td>\n",
       "      <td>5@gmail.com</td>\n",
       "      <td>10000</td>\n",
       "      <td>2002</td>\n",
       "    </tr>\n",
       "  </tbody>\n",
       "</table>\n",
       "</div>"
      ],
      "text/plain": [
       "     Eid  Empname        Email  Salary   Lid\n",
       "0  10000  Dummy 1  1@gmail.com   10000  2000\n",
       "1  10001  Dummy 2  2@gmail.com    5000  2000\n",
       "2  10002  Dummy 3  3@gmail.com   10000  2001\n",
       "3  10003  Dummy 4  4@gmail.com    5000  2001\n",
       "4  10004  Dummy 5  5@gmail.com   10000  2002"
      ]
     },
     "execution_count": 203,
     "metadata": {},
     "output_type": "execute_result"
    }
   ],
   "source": [
    "# 11. Employee\n",
    "\n",
    "df = pd.read_csv(\"Desktop/DBMS/DBMS dataset/Employee.csv\")\n",
    "df.drop(\"Unnamed: 5\", axis = 1, inplace = True)\n",
    "df.head()"
   ]
  },
  {
   "cell_type": "code",
   "execution_count": 204,
   "metadata": {},
   "outputs": [
    {
     "name": "stdout",
     "output_type": "stream",
     "text": [
      "insert into Employee(Eid,Empname,email,Salary,Lid) values(10000,'Dummy 1','1@gmail.com',10000,2000)\n",
      "insert into Employee(Eid,Empname,email,Salary,Lid) values(10001,'Dummy 2','2@gmail.com',5000,2000)\n",
      "insert into Employee(Eid,Empname,email,Salary,Lid) values(10002,'Dummy 3','3@gmail.com',10000,2001)\n",
      "insert into Employee(Eid,Empname,email,Salary,Lid) values(10003,'Dummy 4','4@gmail.com',5000,2001)\n",
      "insert into Employee(Eid,Empname,email,Salary,Lid) values(10004,'Dummy 5','5@gmail.com',10000,2002)\n",
      "insert into Employee(Eid,Empname,email,Salary,Lid) values(10005,'Dummy 6','6@gmail.com',5000,2002)\n",
      "insert into Employee(Eid,Empname,email,Salary,Lid) values(10006,'Dummy 7','7@gmail.com',10000,2003)\n",
      "insert into Employee(Eid,Empname,email,Salary,Lid) values(10007,'Dummy 8','8@gmail.com',5000,2003)\n",
      "insert into Employee(Eid,Empname,email,Salary,Lid) values(10008,'Dummy 9','9@gmail.com',10000,2004)\n",
      "insert into Employee(Eid,Empname,email,Salary,Lid) values(10009,'Dummy 10','10@gmail.com',5000,2004)\n",
      "insert into Employee(Eid,Empname,email,Salary,Lid) values(10010,'Dummy 11','11@gmail.com',10000,2005)\n",
      "insert into Employee(Eid,Empname,email,Salary,Lid) values(10011,'Dummy 12','12@gmail.com',5000,2005)\n"
     ]
    }
   ],
   "source": [
    "for i in range(len(df)):\n",
    "    Insert_into_Table(mycursor, table_name=\"Employee\", values=list(df.iloc[i]))"
   ]
  },
  {
   "cell_type": "code",
   "execution_count": 205,
   "metadata": {},
   "outputs": [
    {
     "name": "stdout",
     "output_type": "stream",
     "text": [
      "+-------+----------+--------------+--------+------+\n",
      "|  Eid  | Empname  |    email     | Salary | Lid  |\n",
      "+-------+----------+--------------+--------+------+\n",
      "| 10000 | Dummy 1  | 1@gmail.com  | 10000  | 2000 |\n",
      "| 10001 | Dummy 2  | 2@gmail.com  |  5000  | 2000 |\n",
      "| 10002 | Dummy 3  | 3@gmail.com  | 10000  | 2001 |\n",
      "| 10003 | Dummy 4  | 4@gmail.com  |  5000  | 2001 |\n",
      "| 10004 | Dummy 5  | 5@gmail.com  | 10000  | 2002 |\n",
      "| 10005 | Dummy 6  | 6@gmail.com  |  5000  | 2002 |\n",
      "| 10006 | Dummy 7  | 7@gmail.com  | 10000  | 2003 |\n",
      "| 10007 | Dummy 8  | 8@gmail.com  |  5000  | 2003 |\n",
      "| 10008 | Dummy 9  | 9@gmail.com  | 10000  | 2004 |\n",
      "| 10009 | Dummy 10 | 10@gmail.com |  5000  | 2004 |\n",
      "| 10010 | Dummy 11 | 11@gmail.com | 10000  | 2005 |\n",
      "| 10011 | Dummy 12 | 12@gmail.com |  5000  | 2005 |\n",
      "+-------+----------+--------------+--------+------+\n"
     ]
    }
   ],
   "source": [
    "Show_Table(mycursor, table_name=\"Employee\")"
   ]
  },
  {
   "cell_type": "code",
   "execution_count": 207,
   "metadata": {},
   "outputs": [
    {
     "data": {
      "text/html": [
       "<div>\n",
       "<style scoped>\n",
       "    .dataframe tbody tr th:only-of-type {\n",
       "        vertical-align: middle;\n",
       "    }\n",
       "\n",
       "    .dataframe tbody tr th {\n",
       "        vertical-align: top;\n",
       "    }\n",
       "\n",
       "    .dataframe thead th {\n",
       "        text-align: right;\n",
       "    }\n",
       "</style>\n",
       "<table border=\"1\" class=\"dataframe\">\n",
       "  <thead>\n",
       "    <tr style=\"text-align: right;\">\n",
       "      <th></th>\n",
       "      <th>MemId</th>\n",
       "      <th>Lid</th>\n",
       "    </tr>\n",
       "  </thead>\n",
       "  <tbody>\n",
       "    <tr>\n",
       "      <th>0</th>\n",
       "      <td>11000</td>\n",
       "      <td>2000</td>\n",
       "    </tr>\n",
       "    <tr>\n",
       "      <th>1</th>\n",
       "      <td>11001</td>\n",
       "      <td>2000</td>\n",
       "    </tr>\n",
       "    <tr>\n",
       "      <th>2</th>\n",
       "      <td>11002</td>\n",
       "      <td>2001</td>\n",
       "    </tr>\n",
       "    <tr>\n",
       "      <th>3</th>\n",
       "      <td>11003</td>\n",
       "      <td>2001</td>\n",
       "    </tr>\n",
       "    <tr>\n",
       "      <th>4</th>\n",
       "      <td>11004</td>\n",
       "      <td>2002</td>\n",
       "    </tr>\n",
       "  </tbody>\n",
       "</table>\n",
       "</div>"
      ],
      "text/plain": [
       "   MemId   Lid\n",
       "0  11000  2000\n",
       "1  11001  2000\n",
       "2  11002  2001\n",
       "3  11003  2001\n",
       "4  11004  2002"
      ]
     },
     "execution_count": 207,
     "metadata": {},
     "output_type": "execute_result"
    }
   ],
   "source": [
    "# 12. Member\n",
    "\n",
    "df = pd.read_csv(\"Desktop/DBMS/DBMS dataset/Member.csv\")\n",
    "df.drop([\"Unnamed: 2\", \"Unnamed: 3\"], axis = 1, inplace = True)\n",
    "df.head()"
   ]
  },
  {
   "cell_type": "code",
   "execution_count": 208,
   "metadata": {},
   "outputs": [
    {
     "name": "stdout",
     "output_type": "stream",
     "text": [
      "insert into Member(MemId,Lid) values(11000,2000)\n",
      "insert into Member(MemId,Lid) values(11001,2000)\n",
      "insert into Member(MemId,Lid) values(11002,2001)\n",
      "insert into Member(MemId,Lid) values(11003,2001)\n",
      "insert into Member(MemId,Lid) values(11004,2002)\n",
      "insert into Member(MemId,Lid) values(11005,2002)\n",
      "insert into Member(MemId,Lid) values(11006,2003)\n",
      "insert into Member(MemId,Lid) values(11007,2003)\n",
      "insert into Member(MemId,Lid) values(11008,2004)\n",
      "insert into Member(MemId,Lid) values(11009,2004)\n",
      "insert into Member(MemId,Lid) values(11010,2005)\n",
      "insert into Member(MemId,Lid) values(11011,2005)\n"
     ]
    }
   ],
   "source": [
    "for i in range(len(df)):\n",
    "    Insert_into_Table(mycursor, table_name=\"Member\", values=list(df.iloc[i]))"
   ]
  },
  {
   "cell_type": "code",
   "execution_count": 209,
   "metadata": {},
   "outputs": [
    {
     "name": "stdout",
     "output_type": "stream",
     "text": [
      "+-------+------+\n",
      "| MemId | Lid  |\n",
      "+-------+------+\n",
      "| 11000 | 2000 |\n",
      "| 11001 | 2000 |\n",
      "| 11002 | 2001 |\n",
      "| 11003 | 2001 |\n",
      "| 11004 | 2002 |\n",
      "| 11005 | 2002 |\n",
      "| 11006 | 2003 |\n",
      "| 11007 | 2003 |\n",
      "| 11008 | 2004 |\n",
      "| 11009 | 2004 |\n",
      "| 11010 | 2005 |\n",
      "| 11011 | 2005 |\n",
      "+-------+------+\n"
     ]
    }
   ],
   "source": [
    "Show_Table(mycursor, table_name=\"Member\")"
   ]
  },
  {
   "cell_type": "code",
   "execution_count": 221,
   "metadata": {},
   "outputs": [
    {
     "data": {
      "text/html": [
       "<div>\n",
       "<style scoped>\n",
       "    .dataframe tbody tr th:only-of-type {\n",
       "        vertical-align: middle;\n",
       "    }\n",
       "\n",
       "    .dataframe tbody tr th {\n",
       "        vertical-align: top;\n",
       "    }\n",
       "\n",
       "    .dataframe thead th {\n",
       "        text-align: right;\n",
       "    }\n",
       "</style>\n",
       "<table border=\"1\" class=\"dataframe\">\n",
       "  <thead>\n",
       "    <tr style=\"text-align: right;\">\n",
       "      <th></th>\n",
       "      <th>Studid</th>\n",
       "      <th>Sname</th>\n",
       "      <th>Email</th>\n",
       "      <th>Mom</th>\n",
       "      <th>DeptId</th>\n",
       "    </tr>\n",
       "  </thead>\n",
       "  <tbody>\n",
       "    <tr>\n",
       "      <th>0</th>\n",
       "      <td>7000</td>\n",
       "      <td>Santosh</td>\n",
       "      <td>santosh@gmail.com</td>\n",
       "      <td>11001</td>\n",
       "      <td>8000</td>\n",
       "    </tr>\n",
       "    <tr>\n",
       "      <th>1</th>\n",
       "      <td>7001</td>\n",
       "      <td>Mukesh</td>\n",
       "      <td>mukesh@gmail.com</td>\n",
       "      <td>11003</td>\n",
       "      <td>8001</td>\n",
       "    </tr>\n",
       "    <tr>\n",
       "      <th>2</th>\n",
       "      <td>7002</td>\n",
       "      <td>Harsh</td>\n",
       "      <td>harsh@gmail.com</td>\n",
       "      <td>11005</td>\n",
       "      <td>8002</td>\n",
       "    </tr>\n",
       "    <tr>\n",
       "      <th>3</th>\n",
       "      <td>7003</td>\n",
       "      <td>Shrey</td>\n",
       "      <td>shrey@gmail.com</td>\n",
       "      <td>11007</td>\n",
       "      <td>8003</td>\n",
       "    </tr>\n",
       "    <tr>\n",
       "      <th>4</th>\n",
       "      <td>7004</td>\n",
       "      <td>Muskan</td>\n",
       "      <td>muskan@gmail.com</td>\n",
       "      <td>11009</td>\n",
       "      <td>8004</td>\n",
       "    </tr>\n",
       "  </tbody>\n",
       "</table>\n",
       "</div>"
      ],
      "text/plain": [
       "   Studid    Sname              Email    Mom  DeptId\n",
       "0    7000  Santosh  santosh@gmail.com  11001    8000\n",
       "1    7001   Mukesh   mukesh@gmail.com  11003    8001\n",
       "2    7002    Harsh    harsh@gmail.com  11005    8002\n",
       "3    7003    Shrey    shrey@gmail.com  11007    8003\n",
       "4    7004   Muskan   muskan@gmail.com  11009    8004"
      ]
     },
     "execution_count": 221,
     "metadata": {},
     "output_type": "execute_result"
    }
   ],
   "source": [
    "#13 \n",
    "\n",
    "df = pd.read_csv(\"Desktop/DBMS/DBMS dataset/Student.csv\")\n",
    "df.head()"
   ]
  },
  {
   "cell_type": "code",
   "execution_count": 222,
   "metadata": {},
   "outputs": [
    {
     "name": "stdout",
     "output_type": "stream",
     "text": [
      "insert into Student(Stuid,Sname,email,Memid,Deptid) values(7000,'Santosh','santosh@gmail.com',11001,8000)\n",
      "insert into Student(Stuid,Sname,email,Memid,Deptid) values(7001,'Mukesh','mukesh@gmail.com',11003,8001)\n",
      "insert into Student(Stuid,Sname,email,Memid,Deptid) values(7002,'Harsh','harsh@gmail.com',11005,8002)\n",
      "insert into Student(Stuid,Sname,email,Memid,Deptid) values(7003,'Shrey','shrey@gmail.com',11007,8003)\n",
      "insert into Student(Stuid,Sname,email,Memid,Deptid) values(7004,'Muskan','muskan@gmail.com',11009,8004)\n",
      "insert into Student(Stuid,Sname,email,Memid,Deptid) values(7005,'Sudarshan','sudarshan@gmail.com',11011,8005)\n"
     ]
    }
   ],
   "source": [
    "for i in range(len(df)):\n",
    "    Insert_into_Table(mycursor, table_name=\"Student\", values=list(df.iloc[i]))"
   ]
  },
  {
   "cell_type": "code",
   "execution_count": 223,
   "metadata": {},
   "outputs": [
    {
     "name": "stdout",
     "output_type": "stream",
     "text": [
      "+-------+-----------+---------------------+-------+--------+\n",
      "| Stuid |   Sname   |        email        | Memid | Deptid |\n",
      "+-------+-----------+---------------------+-------+--------+\n",
      "|  7000 |  Santosh  |  santosh@gmail.com  | 11001 |  8000  |\n",
      "|  7001 |   Mukesh  |   mukesh@gmail.com  | 11003 |  8001  |\n",
      "|  7002 |   Harsh   |   harsh@gmail.com   | 11005 |  8002  |\n",
      "|  7003 |   Shrey   |   shrey@gmail.com   | 11007 |  8003  |\n",
      "|  7004 |   Muskan  |   muskan@gmail.com  | 11009 |  8004  |\n",
      "|  7005 | Sudarshan | sudarshan@gmail.com | 11011 |  8005  |\n",
      "+-------+-----------+---------------------+-------+--------+\n"
     ]
    }
   ],
   "source": [
    "Show_Table(mycursor, table_name=\"Student\")"
   ]
  },
  {
   "cell_type": "code",
   "execution_count": 229,
   "metadata": {},
   "outputs": [
    {
     "data": {
      "text/html": [
       "<div>\n",
       "<style scoped>\n",
       "    .dataframe tbody tr th:only-of-type {\n",
       "        vertical-align: middle;\n",
       "    }\n",
       "\n",
       "    .dataframe tbody tr th {\n",
       "        vertical-align: top;\n",
       "    }\n",
       "\n",
       "    .dataframe thead th {\n",
       "        text-align: right;\n",
       "    }\n",
       "</style>\n",
       "<table border=\"1\" class=\"dataframe\">\n",
       "  <thead>\n",
       "    <tr style=\"text-align: right;\">\n",
       "      <th></th>\n",
       "      <th>Stid</th>\n",
       "      <th>Stname</th>\n",
       "      <th>Email</th>\n",
       "      <th>Mom</th>\n",
       "      <th>DeptId</th>\n",
       "    </tr>\n",
       "  </thead>\n",
       "  <tbody>\n",
       "    <tr>\n",
       "      <th>0</th>\n",
       "      <td>12000</td>\n",
       "      <td>Madhuri Yadav</td>\n",
       "      <td>madhuri@gmail.com</td>\n",
       "      <td>11000</td>\n",
       "      <td>8000</td>\n",
       "    </tr>\n",
       "    <tr>\n",
       "      <th>1</th>\n",
       "      <td>12001</td>\n",
       "      <td>B wale Chacha</td>\n",
       "      <td>chacha@gmail.com</td>\n",
       "      <td>11002</td>\n",
       "      <td>8001</td>\n",
       "    </tr>\n",
       "    <tr>\n",
       "      <th>2</th>\n",
       "      <td>12002</td>\n",
       "      <td>Uncle John</td>\n",
       "      <td>uncle@gmail.com</td>\n",
       "      <td>11004</td>\n",
       "      <td>8002</td>\n",
       "    </tr>\n",
       "    <tr>\n",
       "      <th>3</th>\n",
       "      <td>12003</td>\n",
       "      <td>Vimal bolo</td>\n",
       "      <td>vimal@gmail.com</td>\n",
       "      <td>11006</td>\n",
       "      <td>8003</td>\n",
       "    </tr>\n",
       "    <tr>\n",
       "      <th>4</th>\n",
       "      <td>12004</td>\n",
       "      <td>JP Yadav</td>\n",
       "      <td>yadav@gmail.com</td>\n",
       "      <td>11008</td>\n",
       "      <td>8004</td>\n",
       "    </tr>\n",
       "  </tbody>\n",
       "</table>\n",
       "</div>"
      ],
      "text/plain": [
       "    Stid         Stname              Email    Mom  DeptId\n",
       "0  12000  Madhuri Yadav  madhuri@gmail.com  11000    8000\n",
       "1  12001  B wale Chacha   chacha@gmail.com  11002    8001\n",
       "2  12002     Uncle John    uncle@gmail.com  11004    8002\n",
       "3  12003     Vimal bolo    vimal@gmail.com  11006    8003\n",
       "4  12004       JP Yadav    yadav@gmail.com  11008    8004"
      ]
     },
     "execution_count": 229,
     "metadata": {},
     "output_type": "execute_result"
    }
   ],
   "source": [
    "# 14. Staff\n",
    "\n",
    "df = pd.read_csv(\"Desktop/DBMS/DBMS dataset/Staff-Table 1.csv\")\n",
    "\n",
    "df.head()"
   ]
  },
  {
   "cell_type": "code",
   "execution_count": 233,
   "metadata": {},
   "outputs": [
    {
     "name": "stdout",
     "output_type": "stream",
     "text": [
      "insert into Staff(Stid,stname,email,MemId,DeptId) values(12000,'Madhuri Yadav','madhuri@gmail.com',11000,8000)\n",
      "insert into Staff(Stid,stname,email,MemId,DeptId) values(12001,'B wale Chacha','chacha@gmail.com',11002,8001)\n",
      "insert into Staff(Stid,stname,email,MemId,DeptId) values(12002,'Uncle John','uncle@gmail.com',11004,8002)\n",
      "insert into Staff(Stid,stname,email,MemId,DeptId) values(12003,'Vimal bolo','vimal@gmail.com',11006,8003)\n",
      "insert into Staff(Stid,stname,email,MemId,DeptId) values(12004,'JP Yadav','yadav@gmail.com',11008,8004)\n",
      "insert into Staff(Stid,stname,email,MemId,DeptId) values(12005,'ThandePapa','thandepapa@gmail.com',11010,8005)\n"
     ]
    }
   ],
   "source": [
    "for i in range(len(df)):\n",
    "    Insert_into_Table(mycursor, table_name=\"Staff\", values=list(df.iloc[i]))"
   ]
  },
  {
   "cell_type": "code",
   "execution_count": 234,
   "metadata": {},
   "outputs": [
    {
     "name": "stdout",
     "output_type": "stream",
     "text": [
      "+-------+---------------+----------------------+-------+--------+\n",
      "|  Stid |     stname    |        email         | MemId | DeptId |\n",
      "+-------+---------------+----------------------+-------+--------+\n",
      "| 12000 | Madhuri Yadav |  madhuri@gmail.com   | 11000 |  8000  |\n",
      "| 12001 | B wale Chacha |   chacha@gmail.com   | 11002 |  8001  |\n",
      "| 12002 |   Uncle John  |   uncle@gmail.com    | 11004 |  8002  |\n",
      "| 12003 |   Vimal bolo  |   vimal@gmail.com    | 11006 |  8003  |\n",
      "| 12004 |    JP Yadav   |   yadav@gmail.com    | 11008 |  8004  |\n",
      "| 12005 |   ThandePapa  | thandepapa@gmail.com | 11010 |  8005  |\n",
      "+-------+---------------+----------------------+-------+--------+\n"
     ]
    }
   ],
   "source": [
    "Show_Table(mycursor, table_name=\"Staff\")"
   ]
  },
  {
   "cell_type": "code",
   "execution_count": 241,
   "metadata": {},
   "outputs": [
    {
     "name": "stdout",
     "output_type": "stream",
     "text": [
      "+------+------------------+-------+------+\n",
      "| Bid  |      Bname       | Price | Lid  |\n",
      "+------+------------------+-------+------+\n",
      "| 3000 | Katto ka vyapaar |  1000 | 2000 |\n",
      "| 3001 | Barfi ka vyapaar |  5000 | 2000 |\n",
      "| 3002 | Katto ka vyapaar |  1000 | 2001 |\n",
      "| 3003 | Barfi ka vyapaar |  5000 | 2001 |\n",
      "| 3004 | Wine ka Vyapaar  |  2000 | 2002 |\n",
      "| 3005 | Wine ka Vyapaar  |  2000 | 2003 |\n",
      "| 3006 |  Car ka Vyapaar  |  3000 | 2004 |\n",
      "| 3007 | Katto ka Vyapper |  1000 | 2004 |\n",
      "| 3008 | Barfi ka Vyapaar |  5000 | 2004 |\n",
      "| 3009 |  Car ka Vyapaar  |  3000 | 2005 |\n",
      "| 3010 | Katto ka Vyapper |  1000 | 2005 |\n",
      "| 3011 | Barfi ka Vyapaar |  5000 | 2005 |\n",
      "+------+------------------+-------+------+\n"
     ]
    }
   ],
   "source": [
    "Show_Table(mycursor, table_name=\"Books\")"
   ]
  },
  {
   "cell_type": "code",
   "execution_count": 242,
   "metadata": {},
   "outputs": [
    {
     "name": "stdout",
     "output_type": "stream",
     "text": [
      "+-------+------+\n",
      "| MemId | Lid  |\n",
      "+-------+------+\n",
      "| 11000 | 2000 |\n",
      "| 11001 | 2000 |\n",
      "| 11002 | 2001 |\n",
      "| 11003 | 2001 |\n",
      "| 11004 | 2002 |\n",
      "| 11005 | 2002 |\n",
      "| 11006 | 2003 |\n",
      "| 11007 | 2003 |\n",
      "| 11008 | 2004 |\n",
      "| 11009 | 2004 |\n",
      "| 11010 | 2005 |\n",
      "| 11011 | 2005 |\n",
      "+-------+------+\n"
     ]
    }
   ],
   "source": [
    "Show_Table(mycursor, table_name=\"Member\")"
   ]
  },
  {
   "cell_type": "code",
   "execution_count": 248,
   "metadata": {},
   "outputs": [
    {
     "data": {
      "text/html": [
       "<div>\n",
       "<style scoped>\n",
       "    .dataframe tbody tr th:only-of-type {\n",
       "        vertical-align: middle;\n",
       "    }\n",
       "\n",
       "    .dataframe tbody tr th {\n",
       "        vertical-align: top;\n",
       "    }\n",
       "\n",
       "    .dataframe thead th {\n",
       "        text-align: right;\n",
       "    }\n",
       "</style>\n",
       "<table border=\"1\" class=\"dataframe\">\n",
       "  <thead>\n",
       "    <tr style=\"text-align: right;\">\n",
       "      <th></th>\n",
       "      <th>Bnid</th>\n",
       "      <th>Bid</th>\n",
       "      <th>Blid</th>\n",
       "    </tr>\n",
       "  </thead>\n",
       "  <tbody>\n",
       "    <tr>\n",
       "      <th>0</th>\n",
       "      <td>9000</td>\n",
       "      <td>3000</td>\n",
       "      <td>5000</td>\n",
       "    </tr>\n",
       "    <tr>\n",
       "      <th>1</th>\n",
       "      <td>9001</td>\n",
       "      <td>3001</td>\n",
       "      <td>5001</td>\n",
       "    </tr>\n",
       "    <tr>\n",
       "      <th>2</th>\n",
       "      <td>9002</td>\n",
       "      <td>3002</td>\n",
       "      <td>5002</td>\n",
       "    </tr>\n",
       "    <tr>\n",
       "      <th>3</th>\n",
       "      <td>9003</td>\n",
       "      <td>3003</td>\n",
       "      <td>5003</td>\n",
       "    </tr>\n",
       "    <tr>\n",
       "      <th>4</th>\n",
       "      <td>9004</td>\n",
       "      <td>3004</td>\n",
       "      <td>5004</td>\n",
       "    </tr>\n",
       "  </tbody>\n",
       "</table>\n",
       "</div>"
      ],
      "text/plain": [
       "   Bnid   Bid  Blid\n",
       "0  9000  3000  5000\n",
       "1  9001  3001  5001\n",
       "2  9002  3002  5002\n",
       "3  9003  3003  5003\n",
       "4  9004  3004  5004"
      ]
     },
     "execution_count": 248,
     "metadata": {},
     "output_type": "execute_result"
    }
   ],
   "source": [
    "# 15. Noof copies\n",
    "df = pd.read_csv(\"Desktop/DBMS/DBMS Dataset1/Noofcopies-Table 1.csv\")\n",
    "df.head()"
   ]
  },
  {
   "cell_type": "code",
   "execution_count": 249,
   "metadata": {},
   "outputs": [
    {
     "name": "stdout",
     "output_type": "stream",
     "text": [
      "insert into Noofcopies(Bnid,Bid,Blid) values(9000,3000,5000)\n",
      "insert into Noofcopies(Bnid,Bid,Blid) values(9001,3001,5001)\n",
      "insert into Noofcopies(Bnid,Bid,Blid) values(9002,3002,5002)\n",
      "insert into Noofcopies(Bnid,Bid,Blid) values(9003,3003,5003)\n",
      "insert into Noofcopies(Bnid,Bid,Blid) values(9004,3004,5004)\n",
      "insert into Noofcopies(Bnid,Bid,Blid) values(9005,3005,5005)\n",
      "insert into Noofcopies(Bnid,Bid,Blid) values(9006,3006,5006)\n",
      "insert into Noofcopies(Bnid,Bid,Blid) values(9007,3007,5007)\n",
      "insert into Noofcopies(Bnid,Bid,Blid) values(9008,3008,5008)\n",
      "insert into Noofcopies(Bnid,Bid,Blid) values(9009,3009,5009)\n",
      "insert into Noofcopies(Bnid,Bid,Blid) values(9010,3010,5010)\n",
      "insert into Noofcopies(Bnid,Bid,Blid) values(9011,3011,5011)\n"
     ]
    }
   ],
   "source": [
    "for i in range(len(df)):\n",
    "    Insert_into_Table(mycursor, table_name=\"Noofcopies\", values=list(df.iloc[i]))"
   ]
  },
  {
   "cell_type": "code",
   "execution_count": 250,
   "metadata": {},
   "outputs": [
    {
     "name": "stdout",
     "output_type": "stream",
     "text": [
      "+------+------+------+\n",
      "| Bnid | Bid  | Blid |\n",
      "+------+------+------+\n",
      "| 9000 | 3000 | 5000 |\n",
      "| 9001 | 3001 | 5001 |\n",
      "| 9002 | 3002 | 5002 |\n",
      "| 9003 | 3003 | 5003 |\n",
      "| 9004 | 3004 | 5004 |\n",
      "| 9005 | 3005 | 5005 |\n",
      "| 9006 | 3006 | 5006 |\n",
      "| 9007 | 3007 | 5007 |\n",
      "| 9008 | 3008 | 5008 |\n",
      "| 9009 | 3009 | 5009 |\n",
      "| 9010 | 3010 | 5010 |\n",
      "| 9011 | 3011 | 5011 |\n",
      "+------+------+------+\n"
     ]
    }
   ],
   "source": [
    "Show_Table(mycursor, \"Noofcopies\")"
   ]
  },
  {
   "cell_type": "code",
   "execution_count": 260,
   "metadata": {},
   "outputs": [
    {
     "data": {
      "text/html": [
       "<div>\n",
       "<style scoped>\n",
       "    .dataframe tbody tr th:only-of-type {\n",
       "        vertical-align: middle;\n",
       "    }\n",
       "\n",
       "    .dataframe tbody tr th {\n",
       "        vertical-align: top;\n",
       "    }\n",
       "\n",
       "    .dataframe thead th {\n",
       "        text-align: right;\n",
       "    }\n",
       "</style>\n",
       "<table border=\"1\" class=\"dataframe\">\n",
       "  <thead>\n",
       "    <tr style=\"text-align: right;\">\n",
       "      <th></th>\n",
       "      <th>Prid</th>\n",
       "      <th>Lid</th>\n",
       "      <th>Sid</th>\n",
       "      <th>Pid</th>\n",
       "      <th>Bid</th>\n",
       "      <th>Quantity</th>\n",
       "      <th>Date</th>\n",
       "      <th>Total Cost</th>\n",
       "    </tr>\n",
       "  </thead>\n",
       "  <tbody>\n",
       "    <tr>\n",
       "      <th>0</th>\n",
       "      <td>14000</td>\n",
       "      <td>2000</td>\n",
       "      <td>6000</td>\n",
       "      <td>5000</td>\n",
       "      <td>3000</td>\n",
       "      <td>3</td>\n",
       "      <td>10/10/2000</td>\n",
       "      <td>10000</td>\n",
       "    </tr>\n",
       "    <tr>\n",
       "      <th>1</th>\n",
       "      <td>14001</td>\n",
       "      <td>2002</td>\n",
       "      <td>6003</td>\n",
       "      <td>5003</td>\n",
       "      <td>3004</td>\n",
       "      <td>5</td>\n",
       "      <td>11/10/2000</td>\n",
       "      <td>20000</td>\n",
       "    </tr>\n",
       "    <tr>\n",
       "      <th>2</th>\n",
       "      <td>14002</td>\n",
       "      <td>2004</td>\n",
       "      <td>6001</td>\n",
       "      <td>5001</td>\n",
       "      <td>3008</td>\n",
       "      <td>1</td>\n",
       "      <td>12/10/2000</td>\n",
       "      <td>4000</td>\n",
       "    </tr>\n",
       "    <tr>\n",
       "      <th>3</th>\n",
       "      <td>14003</td>\n",
       "      <td>2005</td>\n",
       "      <td>6000</td>\n",
       "      <td>5000</td>\n",
       "      <td>3010</td>\n",
       "      <td>3</td>\n",
       "      <td>13/10/2000</td>\n",
       "      <td>20000</td>\n",
       "    </tr>\n",
       "    <tr>\n",
       "      <th>4</th>\n",
       "      <td>14004</td>\n",
       "      <td>2003</td>\n",
       "      <td>6003</td>\n",
       "      <td>5003</td>\n",
       "      <td>3005</td>\n",
       "      <td>4</td>\n",
       "      <td>14/10/2000</td>\n",
       "      <td>60000</td>\n",
       "    </tr>\n",
       "  </tbody>\n",
       "</table>\n",
       "</div>"
      ],
      "text/plain": [
       "    Prid   Lid   Sid   Pid   Bid  Quantity        Date  Total Cost\n",
       "0  14000  2000  6000  5000  3000         3  10/10/2000       10000\n",
       "1  14001  2002  6003  5003  3004         5  11/10/2000       20000\n",
       "2  14002  2004  6001  5001  3008         1  12/10/2000        4000\n",
       "3  14003  2005  6000  5000  3010         3  13/10/2000       20000\n",
       "4  14004  2003  6003  5003  3005         4  14/10/2000       60000"
      ]
     },
     "execution_count": 260,
     "metadata": {},
     "output_type": "execute_result"
    }
   ],
   "source": [
    "# 16 Purchase\n",
    "\n",
    "df = pd.read_csv(\"Desktop/DBMS/DBMS Dataset1/Purchase-Table 1.csv\")\n",
    "df.head()"
   ]
  },
  {
   "cell_type": "code",
   "execution_count": 261,
   "metadata": {},
   "outputs": [
    {
     "name": "stdout",
     "output_type": "stream",
     "text": [
      "insert into Purchase(PrId,Lid,Sid,Pid,Bid,Quantity,Date,TotalCost) values(14000,2000,6000,5000,3000,3,'10/10/2000',10000)\n",
      "insert into Purchase(PrId,Lid,Sid,Pid,Bid,Quantity,Date,TotalCost) values(14001,2002,6003,5003,3004,5,'11/10/2000',20000)\n",
      "insert into Purchase(PrId,Lid,Sid,Pid,Bid,Quantity,Date,TotalCost) values(14002,2004,6001,5001,3008,1,'12/10/2000',4000)\n",
      "insert into Purchase(PrId,Lid,Sid,Pid,Bid,Quantity,Date,TotalCost) values(14003,2005,6000,5000,3010,3,'13/10/2000',20000)\n",
      "insert into Purchase(PrId,Lid,Sid,Pid,Bid,Quantity,Date,TotalCost) values(14004,2003,6003,5003,3005,4,'14/10/2000',60000)\n",
      "insert into Purchase(PrId,Lid,Sid,Pid,Bid,Quantity,Date,TotalCost) values(14005,2001,6000,5000,3002,2,'15/10/2000',10000)\n",
      "insert into Purchase(PrId,Lid,Sid,Pid,Bid,Quantity,Date,TotalCost) values(14006,2000,6001,5001,3001,3,'16/10/2000',20000)\n",
      "insert into Purchase(PrId,Lid,Sid,Pid,Bid,Quantity,Date,TotalCost) values(14007,2001,6001,5001,3003,1,'17/10/2000',5000)\n"
     ]
    }
   ],
   "source": [
    "for i in range(len(df)):\n",
    "    Insert_into_Table(mycursor, table_name=\"Purchase\", values=list(df.iloc[i]))"
   ]
  },
  {
   "cell_type": "code",
   "execution_count": 262,
   "metadata": {},
   "outputs": [
    {
     "name": "stdout",
     "output_type": "stream",
     "text": [
      "+-------+------+------+------+------+----------+------------+-----------+\n",
      "|  PrId | Lid  | Sid  | Pid  | Bid  | Quantity |    Date    | TotalCost |\n",
      "+-------+------+------+------+------+----------+------------+-----------+\n",
      "| 14000 | 2000 | 6000 | 5000 | 3000 |    3     | 10/10/2000 |   10000   |\n",
      "| 14001 | 2002 | 6003 | 5003 | 3004 |    5     | 11/10/2000 |   20000   |\n",
      "| 14002 | 2004 | 6001 | 5001 | 3008 |    1     | 12/10/2000 |    4000   |\n",
      "| 14003 | 2005 | 6000 | 5000 | 3010 |    3     | 13/10/2000 |   20000   |\n",
      "| 14004 | 2003 | 6003 | 5003 | 3005 |    4     | 14/10/2000 |   60000   |\n",
      "| 14005 | 2001 | 6000 | 5000 | 3002 |    2     | 15/10/2000 |   10000   |\n",
      "| 14006 | 2000 | 6001 | 5001 | 3001 |    3     | 16/10/2000 |   20000   |\n",
      "| 14007 | 2001 | 6001 | 5001 | 3003 |    1     | 17/10/2000 |    5000   |\n",
      "+-------+------+------+------+------+----------+------------+-----------+\n"
     ]
    }
   ],
   "source": [
    "Show_Table(mycursor,\"Purchase\")"
   ]
  },
  {
   "cell_type": "code",
   "execution_count": 267,
   "metadata": {},
   "outputs": [
    {
     "data": {
      "text/html": [
       "<div>\n",
       "<style scoped>\n",
       "    .dataframe tbody tr th:only-of-type {\n",
       "        vertical-align: middle;\n",
       "    }\n",
       "\n",
       "    .dataframe tbody tr th {\n",
       "        vertical-align: top;\n",
       "    }\n",
       "\n",
       "    .dataframe thead th {\n",
       "        text-align: right;\n",
       "    }\n",
       "</style>\n",
       "<table border=\"1\" class=\"dataframe\">\n",
       "  <thead>\n",
       "    <tr style=\"text-align: right;\">\n",
       "      <th></th>\n",
       "      <th>Issueid</th>\n",
       "      <th>Memid</th>\n",
       "      <th>Bid</th>\n",
       "      <th>Lid</th>\n",
       "      <th>Issue date</th>\n",
       "      <th>Return Date</th>\n",
       "    </tr>\n",
       "  </thead>\n",
       "  <tbody>\n",
       "    <tr>\n",
       "      <th>0</th>\n",
       "      <td>20000</td>\n",
       "      <td>11000</td>\n",
       "      <td>3000</td>\n",
       "      <td>2000</td>\n",
       "      <td>10/10/2020</td>\n",
       "      <td>10/11/2020</td>\n",
       "    </tr>\n",
       "    <tr>\n",
       "      <th>1</th>\n",
       "      <td>20001</td>\n",
       "      <td>11001</td>\n",
       "      <td>3001</td>\n",
       "      <td>2000</td>\n",
       "      <td>11/10/2020</td>\n",
       "      <td>11/11/2020</td>\n",
       "    </tr>\n",
       "    <tr>\n",
       "      <th>2</th>\n",
       "      <td>20002</td>\n",
       "      <td>11002</td>\n",
       "      <td>3002</td>\n",
       "      <td>2001</td>\n",
       "      <td>12/10/2020</td>\n",
       "      <td>12/11/2020</td>\n",
       "    </tr>\n",
       "    <tr>\n",
       "      <th>3</th>\n",
       "      <td>20003</td>\n",
       "      <td>11003</td>\n",
       "      <td>3003</td>\n",
       "      <td>2001</td>\n",
       "      <td>13/10/2020</td>\n",
       "      <td>13/11/2020</td>\n",
       "    </tr>\n",
       "    <tr>\n",
       "      <th>4</th>\n",
       "      <td>20004</td>\n",
       "      <td>11004</td>\n",
       "      <td>3004</td>\n",
       "      <td>2002</td>\n",
       "      <td>14/10/2020</td>\n",
       "      <td>14/11/2020</td>\n",
       "    </tr>\n",
       "  </tbody>\n",
       "</table>\n",
       "</div>"
      ],
      "text/plain": [
       "   Issueid  Memid   Bid   Lid  Issue date Return Date\n",
       "0    20000  11000  3000  2000  10/10/2020  10/11/2020\n",
       "1    20001  11001  3001  2000  11/10/2020  11/11/2020\n",
       "2    20002  11002  3002  2001  12/10/2020  12/11/2020\n",
       "3    20003  11003  3003  2001  13/10/2020  13/11/2020\n",
       "4    20004  11004  3004  2002  14/10/2020  14/11/2020"
      ]
     },
     "execution_count": 267,
     "metadata": {},
     "output_type": "execute_result"
    }
   ],
   "source": [
    "# 17. Issue\n",
    "\n",
    "df = pd.read_csv(\"Desktop/DBMS/DBMS Dataset1/Return-Table 1.csv\")\n",
    "df.head()"
   ]
  },
  {
   "cell_type": "code",
   "execution_count": 268,
   "metadata": {},
   "outputs": [
    {
     "name": "stdout",
     "output_type": "stream",
     "text": [
      "insert into Issue(Issueid,Memid,Bid,Lid,Issuedate,Returndate) values(20000,11000,3000,2000,'10/10/2020','10/11/2020')\n",
      "insert into Issue(Issueid,Memid,Bid,Lid,Issuedate,Returndate) values(20001,11001,3001,2000,'11/10/2020','11/11/2020')\n",
      "insert into Issue(Issueid,Memid,Bid,Lid,Issuedate,Returndate) values(20002,11002,3002,2001,'12/10/2020','12/11/2020')\n",
      "insert into Issue(Issueid,Memid,Bid,Lid,Issuedate,Returndate) values(20003,11003,3003,2001,'13/10/2020','13/11/2020')\n",
      "insert into Issue(Issueid,Memid,Bid,Lid,Issuedate,Returndate) values(20004,11004,3004,2002,'14/10/2020','14/11/2020')\n",
      "insert into Issue(Issueid,Memid,Bid,Lid,Issuedate,Returndate) values(20005,11006,3005,2003,'15/10/2020','15/11/2020')\n",
      "insert into Issue(Issueid,Memid,Bid,Lid,Issuedate,Returndate) values(20006,11008,3006,2004,'16/10/2020','16/11/2020')\n",
      "insert into Issue(Issueid,Memid,Bid,Lid,Issuedate,Returndate) values(20007,11009,3007,2004,'17/10/2020','17/11/2020')\n"
     ]
    }
   ],
   "source": [
    "for i in range(len(df)):\n",
    "    Insert_into_Table(mycursor, table_name=\"Issue\", values=list(df.iloc[i]))"
   ]
  },
  {
   "cell_type": "code",
   "execution_count": 269,
   "metadata": {},
   "outputs": [
    {
     "name": "stdout",
     "output_type": "stream",
     "text": [
      "+---------+-------+------+------+------------+------------+\n",
      "| Issueid | Memid | Bid  | Lid  | Issuedate  | Returndate |\n",
      "+---------+-------+------+------+------------+------------+\n",
      "|  20000  | 11000 | 3000 | 2000 | 10/10/2020 | 10/11/2020 |\n",
      "|  20001  | 11001 | 3001 | 2000 | 11/10/2020 | 11/11/2020 |\n",
      "|  20002  | 11002 | 3002 | 2001 | 12/10/2020 | 12/11/2020 |\n",
      "|  20003  | 11003 | 3003 | 2001 | 13/10/2020 | 13/11/2020 |\n",
      "|  20004  | 11004 | 3004 | 2002 | 14/10/2020 | 14/11/2020 |\n",
      "|  20005  | 11006 | 3005 | 2003 | 15/10/2020 | 15/11/2020 |\n",
      "|  20006  | 11008 | 3006 | 2004 | 16/10/2020 | 16/11/2020 |\n",
      "|  20007  | 11009 | 3007 | 2004 | 17/10/2020 | 17/11/2020 |\n",
      "+---------+-------+------+------+------------+------------+\n"
     ]
    }
   ],
   "source": [
    "Show_Table(mycursor, \"Issue\")"
   ]
  },
  {
   "cell_type": "code",
   "execution_count": null,
   "metadata": {},
   "outputs": [],
   "source": []
  },
  {
   "cell_type": "code",
   "execution_count": null,
   "metadata": {},
   "outputs": [],
   "source": []
  }
 ],
 "metadata": {
  "kernelspec": {
   "display_name": "Python 3",
   "language": "python",
   "name": "python3"
  },
  "language_info": {
   "codemirror_mode": {
    "name": "ipython",
    "version": 3
   },
   "file_extension": ".py",
   "mimetype": "text/x-python",
   "name": "python",
   "nbconvert_exporter": "python",
   "pygments_lexer": "ipython3",
   "version": "3.8.3"
  }
 },
 "nbformat": 4,
 "nbformat_minor": 4
}
